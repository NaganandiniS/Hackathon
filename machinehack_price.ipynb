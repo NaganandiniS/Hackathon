{
  "nbformat": 4,
  "nbformat_minor": 0,
  "metadata": {
    "colab": {
      "name": "machinehack_price.ipynb",
      "provenance": []
    },
    "kernelspec": {
      "name": "python3",
      "display_name": "Python 3"
    }
  },
  "cells": [
    {
      "cell_type": "markdown",
      "metadata": {
        "id": "6FN04cI2CD0b",
        "colab_type": "text"
      },
      "source": [
        "https://www.kaggle.com/anttip/wordbatch-ftrl-fm-lgb-lbl-0-42555\n",
        "https://towardsdatascience.com/machine-learning-for-retail-price-suggestion-with-python-64531e64186d"
      ]
    },
    {
      "cell_type": "code",
      "metadata": {
        "id": "tv0J__Qnvf-q",
        "colab_type": "code",
        "colab": {}
      },
      "source": [
        "!pip install tensorflow==2.0.0\n",
        "import tensorflow as tf\n",
        "tf.test.gpu_device_name()"
      ],
      "execution_count": null,
      "outputs": []
    },
    {
      "cell_type": "code",
      "metadata": {
        "id": "k178x4H0c90I",
        "colab_type": "code",
        "colab": {
          "base_uri": "https://localhost:8080/",
          "height": 51
        },
        "outputId": "80b07f3e-834f-4296-c7cb-504cfaba394c"
      },
      "source": [
        "import keras\n",
        "print(tf.__version__)\n",
        "print(keras.__version__)"
      ],
      "execution_count": null,
      "outputs": [
        {
          "output_type": "stream",
          "text": [
            "2.0.0\n",
            "2.3.1\n"
          ],
          "name": "stdout"
        }
      ]
    },
    {
      "cell_type": "code",
      "metadata": {
        "id": "c5r4QgHt7mVV",
        "colab_type": "code",
        "colab": {
          "resources": {
            "http://localhost:8080/nbextensions/google.colab/files.js": {
              "data": "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",
              "ok": true,
              "headers": [
                [
                  "content-type",
                  "application/javascript"
                ]
              ],
              "status": 200,
              "status_text": ""
            }
          },
          "base_uri": "https://localhost:8080/",
          "height": 74
        },
        "outputId": "1f43d78f-0e4f-4784-c89e-ca2b39cdfae6"
      },
      "source": [
        "from google.colab import files\n",
        "uploaded = files.upload()"
      ],
      "execution_count": null,
      "outputs": [
        {
          "output_type": "display_data",
          "data": {
            "text/html": [
              "\n",
              "     <input type=\"file\" id=\"files-6b43c129-fae3-461a-a6fd-89a18c52e8e8\" name=\"files[]\" multiple disabled />\n",
              "     <output id=\"result-6b43c129-fae3-461a-a6fd-89a18c52e8e8\">\n",
              "      Upload widget is only available when the cell has been executed in the\n",
              "      current browser session. Please rerun this cell to enable.\n",
              "      </output>\n",
              "      <script src=\"/nbextensions/google.colab/files.js\"></script> "
            ],
            "text/plain": [
              "<IPython.core.display.HTML object>"
            ]
          },
          "metadata": {
            "tags": []
          }
        },
        {
          "output_type": "stream",
          "text": [
            "Saving Train.csv to Train.csv\n"
          ],
          "name": "stdout"
        }
      ]
    },
    {
      "cell_type": "code",
      "metadata": {
        "id": "pX_0oWDB71qK",
        "colab_type": "code",
        "colab": {
          "base_uri": "https://localhost:8080/",
          "height": 71
        },
        "outputId": "af2ac9c6-d358-4afc-bcde-6f8968858bb0"
      },
      "source": [
        "import io\n",
        "import gc\n",
        "import time\n",
        "import numpy as np\n",
        "import pandas as pd\n",
        "import matplotlib.pyplot as plt\n",
        "import seaborn as sns\n",
        "from scipy.sparse import csr_matrix, hstack\n",
        "from sklearn.feature_extraction.text import CountVectorizer, TfidfVectorizer\n",
        "from sklearn.preprocessing import LabelBinarizer\n",
        "from sklearn.model_selection import train_test_split, cross_val_score\n",
        "from sklearn.metrics import mean_squared_error\n",
        "import lightgbm as lgb\n",
        "import math"
      ],
      "execution_count": null,
      "outputs": [
        {
          "output_type": "stream",
          "text": [
            "/usr/local/lib/python3.6/dist-packages/statsmodels/tools/_testing.py:19: FutureWarning: pandas.util.testing is deprecated. Use the functions in the public API at pandas.testing instead.\n",
            "  import pandas.util.testing as tm\n"
          ],
          "name": "stderr"
        }
      ]
    },
    {
      "cell_type": "code",
      "metadata": {
        "id": "CCt7Zhmx3B9D",
        "colab_type": "code",
        "colab": {}
      },
      "source": [
        "SEED = 7\n",
        "np.random.seed(SEED)"
      ],
      "execution_count": null,
      "outputs": []
    },
    {
      "cell_type": "code",
      "metadata": {
        "id": "u6EcOluzt7k6",
        "colab_type": "code",
        "colab": {
          "base_uri": "https://localhost:8080/",
          "height": 34
        },
        "outputId": "89cef983-afe6-43bc-b9b2-29e7439416b8"
      },
      "source": [
        "from sklearn.utils import shuffle\n",
        "from sklearn.model_selection import train_test_split\n",
        "#from tensorflow.python import keras\n",
        "from keras.datasets import mnist\n",
        "from keras.layers import Conv2D, MaxPooling2D\n",
        "from keras.models import Sequential\n",
        "from keras.layers import Dense, Dropout, Activation, Flatten\n",
        "from sklearn.utils import shuffle\n",
        "# Visualizing the intermediate layer\n",
        "from keras import backend as K"
      ],
      "execution_count": null,
      "outputs": [
        {
          "output_type": "stream",
          "text": [
            "Using TensorFlow backend.\n"
          ],
          "name": "stderr"
        }
      ]
    },
    {
      "cell_type": "code",
      "metadata": {
        "id": "ijGnjVh_a4xk",
        "colab_type": "code",
        "colab": {}
      },
      "source": [
        "# !pip install wordbatch\n",
        "# import wordbatch\n",
        "# from wordbatch.extractors import WordBag, WordHash\n",
        "# from wordbatch.models import FTRL, FM_FTRL"
      ],
      "execution_count": null,
      "outputs": []
    },
    {
      "cell_type": "code",
      "metadata": {
        "id": "4MSzpi20vmu6",
        "colab_type": "code",
        "colab": {}
      },
      "source": [
        "# from tensorflow.keras.models import Sequential\n",
        "# from tensorflow.keras.layers import Input, Dense, GRU, Embedding\n",
        "# from tensorflow.keras.optimizers import RMSprop\n",
        "# from tensorflow.keras.callbacks import EarlyStopping, ModelCheckpoint, TensorBoard, ReduceLROnPlateau\n",
        "# from tensorflow.keras.backend import square, mean"
      ],
      "execution_count": null,
      "outputs": []
    },
    {
      "cell_type": "code",
      "metadata": {
        "id": "_-aL50qV711E",
        "colab_type": "code",
        "colab": {}
      },
      "source": [
        "df = pd.read_csv(io.BytesIO(uploaded['Train.csv']), parse_dates=[\"Date\"],infer_datetime_format=True, dayfirst=True)"
      ],
      "execution_count": null,
      "outputs": []
    },
    {
      "cell_type": "code",
      "metadata": {
        "id": "7jtoNXCs715u",
        "colab_type": "code",
        "colab": {
          "resources": {
            "http://localhost:8080/nbextensions/google.colab/files.js": {
              "data": "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",
              "ok": true,
              "headers": [
                [
                  "content-type",
                  "application/javascript"
                ]
              ],
              "status": 200,
              "status_text": ""
            }
          },
          "base_uri": "https://localhost:8080/",
          "height": 74
        },
        "outputId": "e9873f11-15d3-4261-afda-fd37dadfb5d5"
      },
      "source": [
        "uploaded1 = files.upload()"
      ],
      "execution_count": null,
      "outputs": [
        {
          "output_type": "display_data",
          "data": {
            "text/html": [
              "\n",
              "     <input type=\"file\" id=\"files-ac0fabdf-3a7c-4860-9eaa-61c70e0799d5\" name=\"files[]\" multiple disabled />\n",
              "     <output id=\"result-ac0fabdf-3a7c-4860-9eaa-61c70e0799d5\">\n",
              "      Upload widget is only available when the cell has been executed in the\n",
              "      current browser session. Please rerun this cell to enable.\n",
              "      </output>\n",
              "      <script src=\"/nbextensions/google.colab/files.js\"></script> "
            ],
            "text/plain": [
              "<IPython.core.display.HTML object>"
            ]
          },
          "metadata": {
            "tags": []
          }
        },
        {
          "output_type": "stream",
          "text": [
            "Saving Test.csv to Test.csv\n"
          ],
          "name": "stdout"
        }
      ]
    },
    {
      "cell_type": "code",
      "metadata": {
        "id": "HGXSt5aW7192",
        "colab_type": "code",
        "colab": {}
      },
      "source": [
        "df_test = pd.read_csv(io.BytesIO(uploaded1['Test.csv']), parse_dates=[\"Date\"],infer_datetime_format=True, dayfirst=True)"
      ],
      "execution_count": null,
      "outputs": []
    },
    {
      "cell_type": "code",
      "metadata": {
        "id": "gwoMvlwV72Ez",
        "colab_type": "code",
        "colab": {}
      },
      "source": [
        "NUM_CATEGORIES = 35"
      ],
      "execution_count": null,
      "outputs": []
    },
    {
      "cell_type": "code",
      "metadata": {
        "id": "8DPRdPP-72Cd",
        "colab_type": "code",
        "colab": {}
      },
      "source": [
        "#develop = False\n",
        "develop= True"
      ],
      "execution_count": null,
      "outputs": []
    },
    {
      "cell_type": "code",
      "metadata": {
        "id": "8LhnjwLk9yLh",
        "colab_type": "code",
        "colab": {}
      },
      "source": [
        "import math"
      ],
      "execution_count": null,
      "outputs": []
    },
    {
      "cell_type": "code",
      "metadata": {
        "id": "hDDHGmt-72A3",
        "colab_type": "code",
        "colab": {}
      },
      "source": [
        "def rmsle(y, y0):\n",
        "    assert len(y) == len(y0)\n",
        "    return np.math.sqrt(np.mean(np.power(np.log1p(y) - np.log1p(y0), 2)))"
      ],
      "execution_count": null,
      "outputs": []
    },
    {
      "cell_type": "code",
      "metadata": {
        "id": "FW2Wrztu71zC",
        "colab_type": "code",
        "colab": {
          "base_uri": "https://localhost:8080/",
          "height": 816
        },
        "outputId": "39c5897a-1026-466d-e42f-e250d4fa32a3"
      },
      "source": [
        "df = df.rename(columns={\"Selling_Price\": \"price\"})\n",
        "df_test = df_test.rename(columns={\"Selling_Price\": \"price\"})\n",
        "print(df.shape)\n",
        "print(df.columns)\n",
        "print(df.dtypes)\n",
        "print(df.info())\n",
        "print(df.describe())\n",
        "print(df.describe(exclude=[np.number]))"
      ],
      "execution_count": null,
      "outputs": [
        {
          "output_type": "stream",
          "text": [
            "(2452, 8)\n",
            "Index(['Product', 'Product_Brand', 'Item_Category', 'Subcategory_1',\n",
            "       'Subcategory_2', 'Item_Rating', 'Date', 'price'],\n",
            "      dtype='object')\n",
            "Product                  object\n",
            "Product_Brand            object\n",
            "Item_Category            object\n",
            "Subcategory_1            object\n",
            "Subcategory_2            object\n",
            "Item_Rating             float64\n",
            "Date             datetime64[ns]\n",
            "price                   float64\n",
            "dtype: object\n",
            "<class 'pandas.core.frame.DataFrame'>\n",
            "RangeIndex: 2452 entries, 0 to 2451\n",
            "Data columns (total 8 columns):\n",
            " #   Column         Non-Null Count  Dtype         \n",
            "---  ------         --------------  -----         \n",
            " 0   Product        2452 non-null   object        \n",
            " 1   Product_Brand  2452 non-null   object        \n",
            " 2   Item_Category  2452 non-null   object        \n",
            " 3   Subcategory_1  2452 non-null   object        \n",
            " 4   Subcategory_2  2452 non-null   object        \n",
            " 5   Item_Rating    2452 non-null   float64       \n",
            " 6   Date           2452 non-null   datetime64[ns]\n",
            " 7   price          2452 non-null   float64       \n",
            "dtypes: datetime64[ns](1), float64(2), object(5)\n",
            "memory usage: 153.4+ KB\n",
            "None\n",
            "       Item_Rating          price\n",
            "count  2452.000000    2452.000000\n",
            "mean      3.078467    2494.375612\n",
            "std       1.187137    7115.256516\n",
            "min       1.000000      33.000000\n",
            "25%       2.000000     371.000000\n",
            "50%       3.100000     596.000000\n",
            "75%       4.100000    1195.250000\n",
            "max       5.000000  116289.000000\n",
            "        Product Product_Brand  ... Subcategory_2                 Date\n",
            "count      2452          2452  ...          2452                 2452\n",
            "unique     2452          1010  ...           336                  483\n",
            "top     P-11126        B-3078  ...  western wear  2013-12-01 00:00:00\n",
            "freq          1           688  ...           267                   86\n",
            "first       NaN           NaN  ...           NaN  2012-12-01 00:00:00\n",
            "last        NaN           NaN  ...           NaN  2020-06-26 00:00:00\n",
            "\n",
            "[6 rows x 6 columns]\n"
          ],
          "name": "stdout"
        }
      ]
    },
    {
      "cell_type": "code",
      "metadata": {
        "id": "zI_Ta8mD71v5",
        "colab_type": "code",
        "colab": {
          "base_uri": "https://localhost:8080/",
          "height": 173
        },
        "outputId": "d3515c13-6467-41fe-905a-2dd95682c4fc"
      },
      "source": [
        "#For classification data\n",
        "df.describe(include=['O'])\n",
        "cat_df = df.select_dtypes(include = ['object'])\n",
        "cat_df.describe()"
      ],
      "execution_count": null,
      "outputs": [
        {
          "output_type": "execute_result",
          "data": {
            "text/html": [
              "<div>\n",
              "<style scoped>\n",
              "    .dataframe tbody tr th:only-of-type {\n",
              "        vertical-align: middle;\n",
              "    }\n",
              "\n",
              "    .dataframe tbody tr th {\n",
              "        vertical-align: top;\n",
              "    }\n",
              "\n",
              "    .dataframe thead th {\n",
              "        text-align: right;\n",
              "    }\n",
              "</style>\n",
              "<table border=\"1\" class=\"dataframe\">\n",
              "  <thead>\n",
              "    <tr style=\"text-align: right;\">\n",
              "      <th></th>\n",
              "      <th>Product</th>\n",
              "      <th>Product_Brand</th>\n",
              "      <th>Item_Category</th>\n",
              "      <th>Subcategory_1</th>\n",
              "      <th>Subcategory_2</th>\n",
              "    </tr>\n",
              "  </thead>\n",
              "  <tbody>\n",
              "    <tr>\n",
              "      <th>count</th>\n",
              "      <td>2452</td>\n",
              "      <td>2452</td>\n",
              "      <td>2452</td>\n",
              "      <td>2452</td>\n",
              "      <td>2452</td>\n",
              "    </tr>\n",
              "    <tr>\n",
              "      <th>unique</th>\n",
              "      <td>2452</td>\n",
              "      <td>1010</td>\n",
              "      <td>75</td>\n",
              "      <td>130</td>\n",
              "      <td>336</td>\n",
              "    </tr>\n",
              "    <tr>\n",
              "      <th>top</th>\n",
              "      <td>P-11126</td>\n",
              "      <td>B-3078</td>\n",
              "      <td>clothing</td>\n",
              "      <td>women s clothing</td>\n",
              "      <td>western wear</td>\n",
              "    </tr>\n",
              "    <tr>\n",
              "      <th>freq</th>\n",
              "      <td>1</td>\n",
              "      <td>688</td>\n",
              "      <td>717</td>\n",
              "      <td>476</td>\n",
              "      <td>267</td>\n",
              "    </tr>\n",
              "  </tbody>\n",
              "</table>\n",
              "</div>"
            ],
            "text/plain": [
              "        Product Product_Brand Item_Category     Subcategory_1 Subcategory_2\n",
              "count      2452          2452          2452              2452          2452\n",
              "unique     2452          1010            75               130           336\n",
              "top     P-11126        B-3078      clothing  women s clothing  western wear\n",
              "freq          1           688           717               476           267"
            ]
          },
          "metadata": {
            "tags": []
          },
          "execution_count": 163
        }
      ]
    },
    {
      "cell_type": "code",
      "metadata": {
        "id": "uGItYyjU71ts",
        "colab_type": "code",
        "colab": {
          "base_uri": "https://localhost:8080/",
          "height": 170
        },
        "outputId": "9de2a2e9-9068-4a48-efd6-38ed5577f252"
      },
      "source": [
        "def to_categorical(dataset):\n",
        "    dataset['Product_Brand'] = dataset['Product_Brand'].astype('category')\n",
        "    dataset['Item_Category'] = dataset['Item_Category'].astype('category')\n",
        "    dataset['Subcategory_1'] = dataset['Subcategory_1'].astype('category')\n",
        "    dataset['Subcategory_2'] = dataset['Subcategory_2'].astype('category')\n",
        "\n",
        "# def to_year(dfl):\n",
        "#   dfl['Date']=dfl.Date.dt.year\n",
        "\n",
        "def to_scale(dfl):\n",
        "  dfl['Item_Rating'] = np.log1p(dfl[\"Item_Rating\"])\n",
        "\n",
        "def cutting(dataset):\n",
        "    pop_category1 = dataset['Item_Category'].value_counts().loc[lambda x: x.index != 'unknown'].index[:NUM_CATEGORIES]\n",
        "    pop_category2 = dataset['Subcategory_1'].value_counts().loc[lambda x: x.index != 'unknown'].index[:NUM_CATEGORIES]\n",
        "    pop_category3 = dataset['Subcategory_2'].value_counts().loc[lambda x: x.index != 'unknown'].index[:NUM_CATEGORIES]\n",
        "    dataset.loc[~dataset['Item_Category'].isin(pop_category1), 'Item_Category'] = 'unknown'\n",
        "    dataset.loc[~dataset['Subcategory_1'].isin(pop_category2), 'Subcategory_1'] = 'unknown'\n",
        "    dataset.loc[~dataset['Subcategory_2'].isin(pop_category3), 'Subcategory_2'] = 'unknown'\n",
        "\n",
        "def check_qmark(d):\n",
        "  a = d.count()\n",
        "  tot = a[0]\n",
        "  print(d.isin(['unknown']).sum(axis=0)*100/tot)\n",
        "check_qmark(df)"
      ],
      "execution_count": null,
      "outputs": [
        {
          "output_type": "stream",
          "text": [
            "Product          0.000000\n",
            "Product_Brand    0.000000\n",
            "Item_Category    0.000000\n",
            "Subcategory_1    1.876020\n",
            "Subcategory_2    9.298532\n",
            "Item_Rating      0.000000\n",
            "Date             0.000000\n",
            "price            0.000000\n",
            "dtype: float64\n"
          ],
          "name": "stdout"
        }
      ]
    },
    {
      "cell_type": "code",
      "metadata": {
        "id": "VTMwr8od8NTc",
        "colab_type": "code",
        "colab": {
          "base_uri": "https://localhost:8080/",
          "height": 392
        },
        "outputId": "a1dcb866-5750-4d79-a5ba-1046d06245e9"
      },
      "source": [
        "plt.figure(figsize=(40, 8))\n",
        "cc = df['Item_Category'].value_counts()[:30]\n",
        "ax = cc.plot.bar()"
      ],
      "execution_count": null,
      "outputs": [
        {
          "output_type": "display_data",
          "data": {
            "image/png": "[encoded data removed]",
            "text/plain": [
              "<Figure size 2880x576 with 1 Axes>"
            ]
          },
          "metadata": {
            "tags": [],
            "needs_background": "light"
          }
        }
      ]
    },
    {
      "cell_type": "code",
      "metadata": {
        "id": "XCeTAthWL0g1",
        "colab_type": "code",
        "colab": {
          "base_uri": "https://localhost:8080/",
          "height": 438
        },
        "outputId": "1f34ce66-16ba-4009-fe23-f527f40ecd58"
      },
      "source": [
        "plt.figure(figsize=(40, 8))\n",
        "sns.countplot('Item_Category',data=df)\n",
        "plt.xticks(rotation=30)"
      ],
      "execution_count": null,
      "outputs": [
        {
          "output_type": "execute_result",
          "data": {
            "text/plain": [
              "(array([ 0,  1,  2,  3,  4,  5,  6,  7,  8,  9, 10, 11, 12, 13, 14, 15, 16,\n",
              "        17, 18, 19, 20, 21, 22, 23, 24, 25, 26, 27, 28, 29, 30, 31, 32, 33,\n",
              "        34, 35, 36, 37, 38, 39, 40, 41, 42, 43, 44, 45, 46, 47, 48, 49, 50,\n",
              "        51, 52, 53, 54, 55, 56, 57, 58, 59, 60, 61, 62, 63, 64, 65, 66, 67,\n",
              "        68, 69, 70, 71, 72, 73, 74]),\n",
              " <a list of 75 Text major ticklabel objects>)"
            ]
          },
          "metadata": {
            "tags": []
          },
          "execution_count": 166
        },
        {
          "output_type": "display_data",
          "data": {
            "image/png": "[encoded data removed]",
            "text/plain": [
              "<Figure size 2880x576 with 1 Axes>"
            ]
          },
          "metadata": {
            "tags": [],
            "needs_background": "light"
          }
        }
      ]
    },
    {
      "cell_type": "code",
      "metadata": {
        "id": "gJnZ_em2BIVm",
        "colab_type": "code",
        "colab": {
          "base_uri": "https://localhost:8080/",
          "height": 34
        },
        "outputId": "e2bff0cf-cbe6-4a21-d5be-90729ee79906"
      },
      "source": [
        "start_time = time.time()\n",
        "from time import gmtime, strftime\n",
        "print(strftime(\"%Y-%m-%d %H:%M:%S\", gmtime()))"
      ],
      "execution_count": null,
      "outputs": [
        {
          "output_type": "stream",
          "text": [
            "2020-06-15 10:15:26\n"
          ],
          "name": "stdout"
        }
      ]
    },
    {
      "cell_type": "code",
      "metadata": {
        "id": "umPQWkrvAyQX",
        "colab_type": "code",
        "colab": {}
      },
      "source": [
        "df.drop('Date', axis=1, inplace=True)\n",
        "df_test.drop('Date', axis=1, inplace=True)"
      ],
      "execution_count": null,
      "outputs": []
    },
    {
      "cell_type": "code",
      "metadata": {
        "id": "CtamrNpNKaCE",
        "colab_type": "code",
        "colab": {
          "base_uri": "https://localhost:8080/",
          "height": 68
        },
        "outputId": "68e4bfce-251e-4758-a9a5-7e1fbe5fc7c6"
      },
      "source": [
        "df.columns"
      ],
      "execution_count": null,
      "outputs": [
        {
          "output_type": "execute_result",
          "data": {
            "text/plain": [
              "Index(['Product', 'Product_Brand', 'Item_Category', 'Subcategory_1',\n",
              "       'Subcategory_2', 'Item_Rating', 'price'],\n",
              "      dtype='object')"
            ]
          },
          "metadata": {
            "tags": []
          },
          "execution_count": 169
        }
      ]
    },
    {
      "cell_type": "code",
      "metadata": {
        "id": "kuqyKj1bBISu",
        "colab_type": "code",
        "colab": {}
      },
      "source": [
        "train = df.copy()\n",
        "test = df_test.copy()"
      ],
      "execution_count": null,
      "outputs": []
    },
    {
      "cell_type": "code",
      "metadata": {
        "id": "L7Y1ZXVBBIQ8",
        "colab_type": "code",
        "colab": {
          "base_uri": "https://localhost:8080/",
          "height": 68
        },
        "outputId": "47541b9d-2dbe-4a7e-b2a7-0c25e40d0b65"
      },
      "source": [
        "print('[{}] Finished to load data'.format(time.time() - start_time))\n",
        "print('Train shape: ', train.shape)\n",
        "print('Test shape: ', test.shape)"
      ],
      "execution_count": null,
      "outputs": [
        {
          "output_type": "stream",
          "text": [
            "[0.06993627548217773] Finished to load data\n",
            "Train shape:  (2452, 7)\n",
            "Test shape:  (1051, 6)\n"
          ],
          "name": "stdout"
        }
      ]
    },
    {
      "cell_type": "code",
      "metadata": {
        "id": "AsRNHvg0VRnG",
        "colab_type": "code",
        "colab": {
          "base_uri": "https://localhost:8080/",
          "height": 51
        },
        "outputId": "e39db73f-c267-4fd8-9387-497871bf87d2"
      },
      "source": [
        "nrow_test = train.shape[0]  # -dftt.shape[0]\n",
        "dftt = train[(train.price < 1.0)]\n",
        "train = train.drop(train[(train.price < 1.0)].index)\n",
        "del dftt['price']\n",
        "nrow_train = train.shape[0]\n",
        "print('nrow_test:', nrow_test)\n",
        "print('nrow_train', nrow_train)\n",
        "y = np.log1p(train[\"price\"])\n",
        "merge = pd.DataFrame = pd.concat([train, dftt, test])\n",
        "submission = pd.DataFrame = test[['Product']]"
      ],
      "execution_count": null,
      "outputs": [
        {
          "output_type": "stream",
          "text": [
            "nrow_test: 2452\n",
            "nrow_train 2452\n"
          ],
          "name": "stdout"
        }
      ]
    },
    {
      "cell_type": "code",
      "metadata": {
        "id": "WHnH81PkY1y7",
        "colab_type": "code",
        "colab": {
          "base_uri": "https://localhost:8080/",
          "height": 34
        },
        "outputId": "0ee66ea4-2699-4f1e-8e80-6d9a62f095c2"
      },
      "source": [
        "merge.shape"
      ],
      "execution_count": null,
      "outputs": [
        {
          "output_type": "execute_result",
          "data": {
            "text/plain": [
              "(3503, 7)"
            ]
          },
          "metadata": {
            "tags": []
          },
          "execution_count": 173
        }
      ]
    },
    {
      "cell_type": "code",
      "metadata": {
        "id": "7cwJpLxDZUiL",
        "colab_type": "code",
        "colab": {
          "base_uri": "https://localhost:8080/",
          "height": 34
        },
        "outputId": "dae776e8-9ef4-4c87-c8a5-fdae871556a6"
      },
      "source": [
        "submission.shape"
      ],
      "execution_count": null,
      "outputs": [
        {
          "output_type": "execute_result",
          "data": {
            "text/plain": [
              "(1051, 1)"
            ]
          },
          "metadata": {
            "tags": []
          },
          "execution_count": 174
        }
      ]
    },
    {
      "cell_type": "code",
      "metadata": {
        "id": "SDMYwVJwNB7q",
        "colab_type": "code",
        "colab": {
          "base_uri": "https://localhost:8080/",
          "height": 34
        },
        "outputId": "562da7b4-68f4-4429-b062-a9cf7b861cc9"
      },
      "source": [
        "del train\n",
        "del test\n",
        "gc.collect()"
      ],
      "execution_count": null,
      "outputs": [
        {
          "output_type": "execute_result",
          "data": {
            "text/plain": [
              "17158"
            ]
          },
          "metadata": {
            "tags": []
          },
          "execution_count": 175
        }
      ]
    },
    {
      "cell_type": "code",
      "metadata": {
        "id": "pfrGA51raUe9",
        "colab_type": "code",
        "colab": {
          "base_uri": "https://localhost:8080/",
          "height": 68
        },
        "outputId": "2b88eb50-b1ee-4abb-832d-512213af1830"
      },
      "source": [
        "merge.columns"
      ],
      "execution_count": null,
      "outputs": [
        {
          "output_type": "execute_result",
          "data": {
            "text/plain": [
              "Index(['Product', 'Product_Brand', 'Item_Category', 'Subcategory_1',\n",
              "       'Subcategory_2', 'Item_Rating', 'price'],\n",
              "      dtype='object')"
            ]
          },
          "metadata": {
            "tags": []
          },
          "execution_count": 176
        }
      ]
    },
    {
      "cell_type": "code",
      "metadata": {
        "id": "zYlDr1ZMNB5T",
        "colab_type": "code",
        "colab": {
          "base_uri": "https://localhost:8080/",
          "height": 170
        },
        "outputId": "e737cf01-ee19-444b-9a2c-0fb113c50953"
      },
      "source": [
        "#cutting(merge)\n",
        "to_categorical(merge)\n",
        "#to_year(merge)\n",
        "to_scale(merge)\n",
        "print('[{}] Preprocessing completed'.format(time.time() - start_time))\n",
        "print(merge.dtypes)"
      ],
      "execution_count": null,
      "outputs": [
        {
          "output_type": "stream",
          "text": [
            "[0.4241526126861572] Preprocessing completed\n",
            "Product            object\n",
            "Product_Brand    category\n",
            "Item_Category    category\n",
            "Subcategory_1    category\n",
            "Subcategory_2    category\n",
            "Item_Rating       float64\n",
            "price             float64\n",
            "dtype: object\n"
          ],
          "name": "stdout"
        }
      ]
    },
    {
      "cell_type": "code",
      "metadata": {
        "id": "DUn2M3Ackryv",
        "colab_type": "code",
        "colab": {}
      },
      "source": [
        "lb = LabelBinarizer(sparse_output=True)\n",
        "X_Product_Brand = lb.fit_transform(merge['Product_Brand'])"
      ],
      "execution_count": null,
      "outputs": []
    },
    {
      "cell_type": "code",
      "metadata": {
        "id": "3-Vw84rSNB07",
        "colab_type": "code",
        "colab": {
          "base_uri": "https://localhost:8080/",
          "height": 34
        },
        "outputId": "fe6912c6-78ba-44cc-b91e-cf24698f8c5a"
      },
      "source": [
        "wb = CountVectorizer()\n",
        "X_Item_Category = wb.fit_transform(merge['Item_Category'])\n",
        "X_Subcategory_1 = wb.fit_transform(merge['Subcategory_1'])\n",
        "X_Subcategory_2 = wb.fit_transform(merge['Subcategory_2'])\n",
        "print('[{}] Count vectorize `categories` completed.'.format(time.time() - start_time))"
      ],
      "execution_count": null,
      "outputs": [
        {
          "output_type": "stream",
          "text": [
            "[0.6302146911621094] Count vectorize `categories` completed.\n"
          ],
          "name": "stdout"
        }
      ]
    },
    {
      "cell_type": "code",
      "metadata": {
        "id": "o4g2JQUQAmLW",
        "colab_type": "code",
        "colab": {
          "base_uri": "https://localhost:8080/",
          "height": 51
        },
        "outputId": "8a6a15ca-fffc-45e5-d425-ec9e8d63c556"
      },
      "source": [
        "X_Item_Category"
      ],
      "execution_count": null,
      "outputs": [
        {
          "output_type": "execute_result",
          "data": {
            "text/plain": [
              "<3503x291 sparse matrix of type '<class 'numpy.int64'>'\n",
              "\twith 5402 stored elements in Compressed Sparse Row format>"
            ]
          },
          "metadata": {
            "tags": []
          },
          "execution_count": 180
        }
      ]
    },
    {
      "cell_type": "code",
      "metadata": {
        "id": "ZLXaozbzAPZt",
        "colab_type": "code",
        "colab": {
          "base_uri": "https://localhost:8080/",
          "height": 51
        },
        "outputId": "645c0ad1-023a-4f6e-aec3-e606b11b7dd7"
      },
      "source": [
        "X_Item_Category"
      ],
      "execution_count": null,
      "outputs": [
        {
          "output_type": "execute_result",
          "data": {
            "text/plain": [
              "<3503x291 sparse matrix of type '<class 'numpy.int64'>'\n",
              "\twith 5402 stored elements in Compressed Sparse Row format>"
            ]
          },
          "metadata": {
            "tags": []
          },
          "execution_count": 181
        }
      ]
    },
    {
      "cell_type": "code",
      "metadata": {
        "id": "Q7vnAUedgZL4",
        "colab_type": "code",
        "colab": {}
      },
      "source": [
        "# X_others = merge[['Item_Rating', 'Date']]\n",
        "X_others = merge[['Item_Rating']]"
      ],
      "execution_count": null,
      "outputs": []
    },
    {
      "cell_type": "code",
      "metadata": {
        "id": "tpS6cmnHBg9Q",
        "colab_type": "code",
        "colab": {
          "base_uri": "https://localhost:8080/",
          "height": 34
        },
        "outputId": "a9cd5d4a-c585-4e33-ddab-3c7f0dcf16b5"
      },
      "source": [
        "ad = merge.Item_Rating.values\n",
        "ad.dtype"
      ],
      "execution_count": null,
      "outputs": [
        {
          "output_type": "execute_result",
          "data": {
            "text/plain": [
              "dtype('float64')"
            ]
          },
          "metadata": {
            "tags": []
          },
          "execution_count": 183
        }
      ]
    },
    {
      "cell_type": "code",
      "metadata": {
        "id": "Lb_75guwA7rY",
        "colab_type": "code",
        "colab": {
          "base_uri": "https://localhost:8080/",
          "height": 136
        },
        "outputId": "b511a76a-6073-48df-aad8-be4703794dbc"
      },
      "source": [
        "X_others.values"
      ],
      "execution_count": null,
      "outputs": [
        {
          "output_type": "execute_result",
          "data": {
            "text/plain": [
              "array([[1.66770682],\n",
              "       [1.41098697],\n",
              "       [1.5040774 ],\n",
              "       ...,\n",
              "       [1.5040774 ],\n",
              "       [1.22377543],\n",
              "       [1.41098697]])"
            ]
          },
          "metadata": {
            "tags": []
          },
          "execution_count": 184
        }
      ]
    },
    {
      "cell_type": "code",
      "metadata": {
        "id": "m28rbWKugZJ3",
        "colab_type": "code",
        "colab": {
          "base_uri": "https://localhost:8080/",
          "height": 34
        },
        "outputId": "952c65de-5e99-4d6f-9658-49c065ddf28e"
      },
      "source": [
        " print(X_Product_Brand.shape, X_Item_Category.shape, X_Subcategory_1.shape, X_Subcategory_2.shape, X_others.shape)"
      ],
      "execution_count": null,
      "outputs": [
        {
          "output_type": "stream",
          "text": [
            "(3503, 1313) (3503, 291) (3503, 202) (3503, 585) (3503, 1)\n"
          ],
          "name": "stdout"
        }
      ]
    },
    {
      "cell_type": "code",
      "metadata": {
        "id": "isQnt-3sgZGb",
        "colab_type": "code",
        "colab": {
          "base_uri": "https://localhost:8080/",
          "height": 153
        },
        "outputId": "7fec21e6-09a6-46a5-a12a-5e85230f979b"
      },
      "source": [
        "merge.dtypes"
      ],
      "execution_count": null,
      "outputs": [
        {
          "output_type": "execute_result",
          "data": {
            "text/plain": [
              "Product            object\n",
              "Product_Brand    category\n",
              "Item_Category    category\n",
              "Subcategory_1    category\n",
              "Subcategory_2    category\n",
              "Item_Rating       float64\n",
              "price             float64\n",
              "dtype: object"
            ]
          },
          "metadata": {
            "tags": []
          },
          "execution_count": 186
        }
      ]
    },
    {
      "cell_type": "code",
      "metadata": {
        "id": "emSSyv4ogZB0",
        "colab_type": "code",
        "colab": {}
      },
      "source": [
        "sparse_merge = hstack((X_Product_Brand, X_Item_Category, X_Subcategory_1, X_Subcategory_2, X_others)).tocsr()"
      ],
      "execution_count": null,
      "outputs": []
    },
    {
      "cell_type": "code",
      "metadata": {
        "id": "Yc0B7UR3uZs7",
        "colab_type": "code",
        "colab": {
          "base_uri": "https://localhost:8080/",
          "height": 34
        },
        "outputId": "ebda089f-2224-4974-f16e-aa600dd639ac"
      },
      "source": [
        "sparse_merge.shape"
      ],
      "execution_count": null,
      "outputs": [
        {
          "output_type": "execute_result",
          "data": {
            "text/plain": [
              "(3503, 2392)"
            ]
          },
          "metadata": {
            "tags": []
          },
          "execution_count": 188
        }
      ]
    },
    {
      "cell_type": "code",
      "metadata": {
        "id": "ubvheaJ4gY-c",
        "colab_type": "code",
        "colab": {
          "base_uri": "https://localhost:8080/",
          "height": 34
        },
        "outputId": "c6256b3f-2a05-4797-f3b4-e222e5547d00"
      },
      "source": [
        "print('[{}] Create sparse merge completed'.format(time.time() - start_time))"
      ],
      "execution_count": null,
      "outputs": [
        {
          "output_type": "stream",
          "text": [
            "[0.748075008392334] Create sparse merge completed\n"
          ],
          "name": "stdout"
        }
      ]
    },
    {
      "cell_type": "code",
      "metadata": {
        "id": "D3xcWX0tubiV",
        "colab_type": "code",
        "colab": {
          "base_uri": "https://localhost:8080/",
          "height": 51
        },
        "outputId": "0063cdfc-b1d2-4a4c-b30b-a5d216484526"
      },
      "source": [
        " # Remove features with document frequency <=1\n",
        "print(sparse_merge.shape)\n",
        "mask = np.array(np.clip(sparse_merge.getnnz(axis=0) - 1, 0, 1), dtype=bool)\n",
        "sparse_merge = sparse_merge[:, mask]\n",
        "sparse_merge.shape\n",
        "print(sparse_merge.shape)"
      ],
      "execution_count": null,
      "outputs": [
        {
          "output_type": "stream",
          "text": [
            "(3503, 2392)\n",
            "(3503, 882)\n"
          ],
          "name": "stdout"
        }
      ]
    },
    {
      "cell_type": "code",
      "metadata": {
        "id": "rwBwHhOAubf4",
        "colab_type": "code",
        "colab": {}
      },
      "source": [
        "#Separate train and test data from sparse merge\n",
        "X = sparse_merge[:nrow_train]\n",
        "X_test = sparse_merge[nrow_test:]"
      ],
      "execution_count": null,
      "outputs": []
    },
    {
      "cell_type": "code",
      "metadata": {
        "id": "2MAcatFLw9j5",
        "colab_type": "code",
        "colab": {}
      },
      "source": [
        "gc.collect()\n",
        "train_X, train_y = X, y"
      ],
      "execution_count": null,
      "outputs": []
    },
    {
      "cell_type": "code",
      "metadata": {
        "id": "tjjSW5cUJeIA",
        "colab_type": "code",
        "colab": {
          "base_uri": "https://localhost:8080/",
          "height": 669
        },
        "outputId": "5a22ac73-53b3-4185-a240-9b610c4b3a6e"
      },
      "source": [
        "df.head(20)"
      ],
      "execution_count": null,
      "outputs": [
        {
          "output_type": "execute_result",
          "data": {
            "text/html": [
              "<div>\n",
              "<style scoped>\n",
              "    .dataframe tbody tr th:only-of-type {\n",
              "        vertical-align: middle;\n",
              "    }\n",
              "\n",
              "    .dataframe tbody tr th {\n",
              "        vertical-align: top;\n",
              "    }\n",
              "\n",
              "    .dataframe thead th {\n",
              "        text-align: right;\n",
              "    }\n",
              "</style>\n",
              "<table border=\"1\" class=\"dataframe\">\n",
              "  <thead>\n",
              "    <tr style=\"text-align: right;\">\n",
              "      <th></th>\n",
              "      <th>Product</th>\n",
              "      <th>Product_Brand</th>\n",
              "      <th>Item_Category</th>\n",
              "      <th>Subcategory_1</th>\n",
              "      <th>Subcategory_2</th>\n",
              "      <th>Item_Rating</th>\n",
              "      <th>price</th>\n",
              "    </tr>\n",
              "  </thead>\n",
              "  <tbody>\n",
              "    <tr>\n",
              "      <th>0</th>\n",
              "      <td>P-2610</td>\n",
              "      <td>B-659</td>\n",
              "      <td>bags wallets belts</td>\n",
              "      <td>bags</td>\n",
              "      <td>hand bags</td>\n",
              "      <td>4.3</td>\n",
              "      <td>291.0</td>\n",
              "    </tr>\n",
              "    <tr>\n",
              "      <th>1</th>\n",
              "      <td>P-2453</td>\n",
              "      <td>B-3078</td>\n",
              "      <td>clothing</td>\n",
              "      <td>women s clothing</td>\n",
              "      <td>western wear</td>\n",
              "      <td>3.1</td>\n",
              "      <td>897.0</td>\n",
              "    </tr>\n",
              "    <tr>\n",
              "      <th>2</th>\n",
              "      <td>P-6802</td>\n",
              "      <td>B-1810</td>\n",
              "      <td>home decor festive needs</td>\n",
              "      <td>showpieces</td>\n",
              "      <td>ethnic</td>\n",
              "      <td>3.5</td>\n",
              "      <td>792.0</td>\n",
              "    </tr>\n",
              "    <tr>\n",
              "      <th>3</th>\n",
              "      <td>P-4452</td>\n",
              "      <td>B-3078</td>\n",
              "      <td>beauty and personal care</td>\n",
              "      <td>eye care</td>\n",
              "      <td>h2o plus eye care</td>\n",
              "      <td>4.0</td>\n",
              "      <td>837.0</td>\n",
              "    </tr>\n",
              "    <tr>\n",
              "      <th>4</th>\n",
              "      <td>P-8454</td>\n",
              "      <td>B-3078</td>\n",
              "      <td>clothing</td>\n",
              "      <td>men s clothing</td>\n",
              "      <td>t shirts</td>\n",
              "      <td>4.3</td>\n",
              "      <td>470.0</td>\n",
              "    </tr>\n",
              "    <tr>\n",
              "      <th>5</th>\n",
              "      <td>P-5597</td>\n",
              "      <td>B-1487</td>\n",
              "      <td>home decor festive needs</td>\n",
              "      <td>table decor handicrafts</td>\n",
              "      <td>showpieces</td>\n",
              "      <td>5.0</td>\n",
              "      <td>746.0</td>\n",
              "    </tr>\n",
              "    <tr>\n",
              "      <th>6</th>\n",
              "      <td>P-8398</td>\n",
              "      <td>B-3078</td>\n",
              "      <td>footwear</td>\n",
              "      <td>women s footwear</td>\n",
              "      <td>casual shoes</td>\n",
              "      <td>4.1</td>\n",
              "      <td>1798.0</td>\n",
              "    </tr>\n",
              "    <tr>\n",
              "      <th>7</th>\n",
              "      <td>P-10744</td>\n",
              "      <td>B-2830</td>\n",
              "      <td>kitchen dining</td>\n",
              "      <td>cookware</td>\n",
              "      <td>pots pans</td>\n",
              "      <td>3.1</td>\n",
              "      <td>955.0</td>\n",
              "    </tr>\n",
              "    <tr>\n",
              "      <th>8</th>\n",
              "      <td>P-4042</td>\n",
              "      <td>B-1045</td>\n",
              "      <td>home decor festive needs</td>\n",
              "      <td>wall decor clocks</td>\n",
              "      <td>paintings</td>\n",
              "      <td>2.4</td>\n",
              "      <td>21770.0</td>\n",
              "    </tr>\n",
              "    <tr>\n",
              "      <th>9</th>\n",
              "      <td>P-360</td>\n",
              "      <td>B-88</td>\n",
              "      <td>automotive</td>\n",
              "      <td>accessories spare parts</td>\n",
              "      <td>car interior exterior</td>\n",
              "      <td>2.3</td>\n",
              "      <td>199.0</td>\n",
              "    </tr>\n",
              "    <tr>\n",
              "      <th>10</th>\n",
              "      <td>P-5086</td>\n",
              "      <td>B-1347</td>\n",
              "      <td>computers</td>\n",
              "      <td>computer components</td>\n",
              "      <td>processors</td>\n",
              "      <td>4.3</td>\n",
              "      <td>2470.0</td>\n",
              "    </tr>\n",
              "    <tr>\n",
              "      <th>11</th>\n",
              "      <td>P-1786</td>\n",
              "      <td>B-2679</td>\n",
              "      <td>clothing</td>\n",
              "      <td>women s clothing</td>\n",
              "      <td>western wear</td>\n",
              "      <td>5.0</td>\n",
              "      <td>497.0</td>\n",
              "    </tr>\n",
              "    <tr>\n",
              "      <th>12</th>\n",
              "      <td>P-7089</td>\n",
              "      <td>B-1880</td>\n",
              "      <td>miss wow slim fit women s blue jeans</td>\n",
              "      <td>unknown</td>\n",
              "      <td>unknown</td>\n",
              "      <td>1.5</td>\n",
              "      <td>489.0</td>\n",
              "    </tr>\n",
              "    <tr>\n",
              "      <th>13</th>\n",
              "      <td>P-8775</td>\n",
              "      <td>B-2261</td>\n",
              "      <td>food nutrition</td>\n",
              "      <td>health nutrition</td>\n",
              "      <td>protein supplements</td>\n",
              "      <td>3.6</td>\n",
              "      <td>939.0</td>\n",
              "    </tr>\n",
              "    <tr>\n",
              "      <th>14</th>\n",
              "      <td>P-9951</td>\n",
              "      <td>B-2605</td>\n",
              "      <td>home decor festive needs</td>\n",
              "      <td>showpieces</td>\n",
              "      <td>shoppingtara showpieces</td>\n",
              "      <td>4.6</td>\n",
              "      <td>416.0</td>\n",
              "    </tr>\n",
              "    <tr>\n",
              "      <th>15</th>\n",
              "      <td>P-5742</td>\n",
              "      <td>B-1517</td>\n",
              "      <td>jewellery</td>\n",
              "      <td>rings</td>\n",
              "      <td>unknown</td>\n",
              "      <td>2.8</td>\n",
              "      <td>30918.0</td>\n",
              "    </tr>\n",
              "    <tr>\n",
              "      <th>16</th>\n",
              "      <td>P-10525</td>\n",
              "      <td>B-2755</td>\n",
              "      <td>srpc baoer starwalker executive rollerball pen g</td>\n",
              "      <td>unknown</td>\n",
              "      <td>unknown</td>\n",
              "      <td>3.2</td>\n",
              "      <td>798.0</td>\n",
              "    </tr>\n",
              "    <tr>\n",
              "      <th>17</th>\n",
              "      <td>P-2805</td>\n",
              "      <td>B-724</td>\n",
              "      <td>home decor festive needs</td>\n",
              "      <td>candles fragrances</td>\n",
              "      <td>home fragrances</td>\n",
              "      <td>1.5</td>\n",
              "      <td>290.0</td>\n",
              "    </tr>\n",
              "    <tr>\n",
              "      <th>18</th>\n",
              "      <td>P-10835</td>\n",
              "      <td>B-2870</td>\n",
              "      <td>computers</td>\n",
              "      <td>laptop accessories</td>\n",
              "      <td>usb gadgets</td>\n",
              "      <td>1.0</td>\n",
              "      <td>641.0</td>\n",
              "    </tr>\n",
              "    <tr>\n",
              "      <th>19</th>\n",
              "      <td>P-8605</td>\n",
              "      <td>B-3078</td>\n",
              "      <td>kitchen dining</td>\n",
              "      <td>coffee mugs</td>\n",
              "      <td>printland coffee mugs</td>\n",
              "      <td>3.8</td>\n",
              "      <td>298.0</td>\n",
              "    </tr>\n",
              "  </tbody>\n",
              "</table>\n",
              "</div>"
            ],
            "text/plain": [
              "    Product Product_Brand  ... Item_Rating    price\n",
              "0    P-2610         B-659  ...         4.3    291.0\n",
              "1    P-2453        B-3078  ...         3.1    897.0\n",
              "2    P-6802        B-1810  ...         3.5    792.0\n",
              "3    P-4452        B-3078  ...         4.0    837.0\n",
              "4    P-8454        B-3078  ...         4.3    470.0\n",
              "5    P-5597        B-1487  ...         5.0    746.0\n",
              "6    P-8398        B-3078  ...         4.1   1798.0\n",
              "7   P-10744        B-2830  ...         3.1    955.0\n",
              "8    P-4042        B-1045  ...         2.4  21770.0\n",
              "9     P-360          B-88  ...         2.3    199.0\n",
              "10   P-5086        B-1347  ...         4.3   2470.0\n",
              "11   P-1786        B-2679  ...         5.0    497.0\n",
              "12   P-7089        B-1880  ...         1.5    489.0\n",
              "13   P-8775        B-2261  ...         3.6    939.0\n",
              "14   P-9951        B-2605  ...         4.6    416.0\n",
              "15   P-5742        B-1517  ...         2.8  30918.0\n",
              "16  P-10525        B-2755  ...         3.2    798.0\n",
              "17   P-2805         B-724  ...         1.5    290.0\n",
              "18  P-10835        B-2870  ...         1.0    641.0\n",
              "19   P-8605        B-3078  ...         3.8    298.0\n",
              "\n",
              "[20 rows x 7 columns]"
            ]
          },
          "metadata": {
            "tags": []
          },
          "execution_count": 193
        }
      ]
    },
    {
      "cell_type": "code",
      "metadata": {
        "id": "QOJWeZ06ubdk",
        "colab_type": "code",
        "colab": {
          "base_uri": "https://localhost:8080/",
          "height": 34
        },
        "outputId": "24d7641b-22e0-41ad-8d8c-300a08081990"
      },
      "source": [
        "if develop:\n",
        "  train_X, valid_X, train_y, valid_y = train_test_split(X, y, test_size=0.05, random_state=100)\n",
        "  print(valid_X.shape)"
      ],
      "execution_count": null,
      "outputs": [
        {
          "output_type": "stream",
          "text": [
            "(123, 882)\n"
          ],
          "name": "stdout"
        }
      ]
    },
    {
      "cell_type": "code",
      "metadata": {
        "id": "jzHaa5sJ1KJf",
        "colab_type": "code",
        "colab": {}
      },
      "source": [
        "from sklearn.linear_model import Ridge\n",
        "import math\n",
        "from sklearn import metrics"
      ],
      "execution_count": null,
      "outputs": []
    },
    {
      "cell_type": "code",
      "metadata": {
        "id": "KDcrZl8yCgMR",
        "colab_type": "code",
        "colab": {
          "base_uri": "https://localhost:8080/",
          "height": 122
        },
        "outputId": "28b5a76d-213a-46cb-dc88-b777710513e4"
      },
      "source": [
        "model = Ridge(solver=\"sag\", random_state=42, alpha=0.5)\n",
        "model.fit(train_X, train_y)\n",
        "print('[{}] Train Ridge completed'.format(time.time() - start_time))\n",
        "if develop:\n",
        "    preds = model.predict(X=valid_X)\n",
        "    print(\"Ridge dev RMSLE:\", rmsle(np.expm1(valid_y), np.expm1(preds)))\n",
        "predsF = model.predict(X_test)\n",
        "print('[{}] Predict Ridge completed'.format(time.time() - start_time))"
      ],
      "execution_count": null,
      "outputs": [
        {
          "output_type": "stream",
          "text": [
            "[1.0114102363586426] Train Ridge completed\n",
            "Ridge dev RMSLE: 0.5973931293047419\n",
            "[1.0138709545135498] Predict Ridge completed\n"
          ],
          "name": "stdout"
        },
        {
          "output_type": "stream",
          "text": [
            "/usr/local/lib/python3.6/dist-packages/sklearn/linear_model/_ridge.py:558: UserWarning: \"sag\" solver requires many iterations to fit an intercept with sparse inputs. Either set the solver to \"auto\" or \"sparse_cg\", or set a low \"tol\" and a high \"max_iter\" (especially if inputs are not standardized).\n",
            "  '\"sag\" solver requires many iterations to fit '\n"
          ],
          "name": "stderr"
        }
      ]
    },
    {
      "cell_type": "code",
      "metadata": {
        "id": "xiP8UQK6GiEk",
        "colab_type": "code",
        "colab": {}
      },
      "source": [
        "from sklearn.model_selection import RandomizedSearchCV\n",
        "import lightgbm as lgb\n",
        "from lightgbm import LGBMRegressor"
      ],
      "execution_count": null,
      "outputs": []
    },
    {
      "cell_type": "code",
      "metadata": {
        "id": "12cfSPYFMLRC",
        "colab_type": "code",
        "colab": {
          "base_uri": "https://localhost:8080/",
          "height": 1000
        },
        "outputId": "623dd9f5-2f06-4b7f-e31e-280a24f04316"
      },
      "source": [
        "params = {\n",
        "    'learning_rate': 0.1,\n",
        "    'application': 'regression',\n",
        "    'max_depth': 12,\n",
        "    'verbosity': -1,\n",
        "    'n_estimators': 119,\n",
        "    'num_leaves': 27,\n",
        "    'metric': 'RMSE',\n",
        "    'data_random_seed': 1\n",
        "}\n",
        "\n",
        "d_train = lgb.Dataset(train_X, label=train_y)\n",
        "watchlist = [d_train]\n",
        "if develop:\n",
        "    d_valid = lgb.Dataset(valid_X, label=valid_y)\n",
        "    watchlist = [d_train, d_valid]\n",
        "\n",
        "model = lgb.train(params, train_set=d_train, num_boost_round=50, valid_sets=watchlist)\n",
        "\n",
        "if develop:\n",
        "    preds = model.predict(valid_X)\n",
        "    print(\"LGB dev RMSLE:\", rmsle(np.expm1(valid_y), np.expm1(preds)))\n",
        "\n",
        "predsL = model.predict(X_test)"
      ],
      "execution_count": null,
      "outputs": [
        {
          "output_type": "stream",
          "text": [
            "[1]\ttraining's rmse: 1.10792\tvalid_1's rmse: 1.11787\n",
            "[2]\ttraining's rmse: 1.04908\tvalid_1's rmse: 1.06207\n",
            "[3]\ttraining's rmse: 0.998773\tvalid_1's rmse: 1.01519\n",
            "[4]\ttraining's rmse: 0.955677\tvalid_1's rmse: 0.97539\n",
            "[5]\ttraining's rmse: 0.919403\tvalid_1's rmse: 0.94152\n",
            "[6]\ttraining's rmse: 0.888367\tvalid_1's rmse: 0.914913\n",
            "[7]\ttraining's rmse: 0.861914\tvalid_1's rmse: 0.892879\n",
            "[8]\ttraining's rmse: 0.839922\tvalid_1's rmse: 0.876168\n",
            "[9]\ttraining's rmse: 0.821599\tvalid_1's rmse: 0.862866\n",
            "[10]\ttraining's rmse: 0.80628\tvalid_1's rmse: 0.852275\n",
            "[11]\ttraining's rmse: 0.793504\tvalid_1's rmse: 0.845167\n",
            "[12]\ttraining's rmse: 0.782408\tvalid_1's rmse: 0.836944\n",
            "[13]\ttraining's rmse: 0.772675\tvalid_1's rmse: 0.831786\n",
            "[14]\ttraining's rmse: 0.764514\tvalid_1's rmse: 0.827216\n",
            "[15]\ttraining's rmse: 0.75771\tvalid_1's rmse: 0.82308\n",
            "[16]\ttraining's rmse: 0.75095\tvalid_1's rmse: 0.820182\n",
            "[17]\ttraining's rmse: 0.745766\tvalid_1's rmse: 0.818577\n",
            "[18]\ttraining's rmse: 0.7414\tvalid_1's rmse: 0.816746\n",
            "[19]\ttraining's rmse: 0.737085\tvalid_1's rmse: 0.812263\n",
            "[20]\ttraining's rmse: 0.733775\tvalid_1's rmse: 0.811338\n",
            "[21]\ttraining's rmse: 0.730496\tvalid_1's rmse: 0.808392\n",
            "[22]\ttraining's rmse: 0.726806\tvalid_1's rmse: 0.805523\n",
            "[23]\ttraining's rmse: 0.724323\tvalid_1's rmse: 0.803076\n",
            "[24]\ttraining's rmse: 0.721577\tvalid_1's rmse: 0.802647\n",
            "[25]\ttraining's rmse: 0.719557\tvalid_1's rmse: 0.799101\n",
            "[26]\ttraining's rmse: 0.717423\tvalid_1's rmse: 0.799159\n",
            "[27]\ttraining's rmse: 0.715695\tvalid_1's rmse: 0.797447\n",
            "[28]\ttraining's rmse: 0.714227\tvalid_1's rmse: 0.797203\n",
            "[29]\ttraining's rmse: 0.71286\tvalid_1's rmse: 0.795517\n",
            "[30]\ttraining's rmse: 0.711289\tvalid_1's rmse: 0.794763\n",
            "[31]\ttraining's rmse: 0.708812\tvalid_1's rmse: 0.789885\n",
            "[32]\ttraining's rmse: 0.706938\tvalid_1's rmse: 0.787189\n",
            "[33]\ttraining's rmse: 0.705336\tvalid_1's rmse: 0.784654\n",
            "[34]\ttraining's rmse: 0.703905\tvalid_1's rmse: 0.783547\n",
            "[35]\ttraining's rmse: 0.701774\tvalid_1's rmse: 0.781492\n",
            "[36]\ttraining's rmse: 0.700621\tvalid_1's rmse: 0.780452\n",
            "[37]\ttraining's rmse: 0.699355\tvalid_1's rmse: 0.777861\n",
            "[38]\ttraining's rmse: 0.698118\tvalid_1's rmse: 0.77833\n",
            "[39]\ttraining's rmse: 0.697048\tvalid_1's rmse: 0.776252\n",
            "[40]\ttraining's rmse: 0.696183\tvalid_1's rmse: 0.775191\n",
            "[41]\ttraining's rmse: 0.695034\tvalid_1's rmse: 0.773936\n",
            "[42]\ttraining's rmse: 0.69417\tvalid_1's rmse: 0.774101\n",
            "[43]\ttraining's rmse: 0.693577\tvalid_1's rmse: 0.773251\n",
            "[44]\ttraining's rmse: 0.69269\tvalid_1's rmse: 0.773061\n",
            "[45]\ttraining's rmse: 0.691894\tvalid_1's rmse: 0.772752\n",
            "[46]\ttraining's rmse: 0.690896\tvalid_1's rmse: 0.772164\n",
            "[47]\ttraining's rmse: 0.689929\tvalid_1's rmse: 0.770412\n",
            "[48]\ttraining's rmse: 0.689172\tvalid_1's rmse: 0.770565\n",
            "[49]\ttraining's rmse: 0.687924\tvalid_1's rmse: 0.768766\n",
            "[50]\ttraining's rmse: 0.686849\tvalid_1's rmse: 0.7683\n",
            "[51]\ttraining's rmse: 0.686254\tvalid_1's rmse: 0.767412\n",
            "[52]\ttraining's rmse: 0.685543\tvalid_1's rmse: 0.766536\n",
            "[53]\ttraining's rmse: 0.684479\tvalid_1's rmse: 0.764989\n",
            "[54]\ttraining's rmse: 0.683595\tvalid_1's rmse: 0.764341\n",
            "[55]\ttraining's rmse: 0.682766\tvalid_1's rmse: 0.763351\n",
            "[56]\ttraining's rmse: 0.681922\tvalid_1's rmse: 0.763041\n",
            "[57]\ttraining's rmse: 0.681178\tvalid_1's rmse: 0.761162\n",
            "[58]\ttraining's rmse: 0.680223\tvalid_1's rmse: 0.760146\n",
            "[59]\ttraining's rmse: 0.679627\tvalid_1's rmse: 0.760084\n",
            "[60]\ttraining's rmse: 0.678979\tvalid_1's rmse: 0.7595\n",
            "[61]\ttraining's rmse: 0.678272\tvalid_1's rmse: 0.758829\n",
            "[62]\ttraining's rmse: 0.67707\tvalid_1's rmse: 0.757954\n",
            "[63]\ttraining's rmse: 0.676634\tvalid_1's rmse: 0.756938\n",
            "[64]\ttraining's rmse: 0.675763\tvalid_1's rmse: 0.755849\n",
            "[65]\ttraining's rmse: 0.675146\tvalid_1's rmse: 0.753822\n",
            "[66]\ttraining's rmse: 0.674247\tvalid_1's rmse: 0.752396\n",
            "[67]\ttraining's rmse: 0.673855\tvalid_1's rmse: 0.752481\n",
            "[68]\ttraining's rmse: 0.673063\tvalid_1's rmse: 0.751803\n",
            "[69]\ttraining's rmse: 0.672478\tvalid_1's rmse: 0.750601\n",
            "[70]\ttraining's rmse: 0.671745\tvalid_1's rmse: 0.750958\n",
            "[71]\ttraining's rmse: 0.671009\tvalid_1's rmse: 0.749574\n",
            "[72]\ttraining's rmse: 0.670188\tvalid_1's rmse: 0.749089\n",
            "[73]\ttraining's rmse: 0.669709\tvalid_1's rmse: 0.749235\n",
            "[74]\ttraining's rmse: 0.669183\tvalid_1's rmse: 0.749815\n",
            "[75]\ttraining's rmse: 0.668771\tvalid_1's rmse: 0.748921\n",
            "[76]\ttraining's rmse: 0.6681\tvalid_1's rmse: 0.748478\n",
            "[77]\ttraining's rmse: 0.66765\tvalid_1's rmse: 0.74742\n",
            "[78]\ttraining's rmse: 0.666831\tvalid_1's rmse: 0.746022\n",
            "[79]\ttraining's rmse: 0.666249\tvalid_1's rmse: 0.745072\n",
            "[80]\ttraining's rmse: 0.665519\tvalid_1's rmse: 0.744495\n",
            "[81]\ttraining's rmse: 0.665109\tvalid_1's rmse: 0.743828\n",
            "[82]\ttraining's rmse: 0.664621\tvalid_1's rmse: 0.743279\n",
            "[83]\ttraining's rmse: 0.664289\tvalid_1's rmse: 0.743467\n",
            "[84]\ttraining's rmse: 0.66367\tvalid_1's rmse: 0.743455\n",
            "[85]\ttraining's rmse: 0.663341\tvalid_1's rmse: 0.742387\n",
            "[86]\ttraining's rmse: 0.662668\tvalid_1's rmse: 0.742901\n",
            "[87]\ttraining's rmse: 0.662421\tvalid_1's rmse: 0.741967\n",
            "[88]\ttraining's rmse: 0.661752\tvalid_1's rmse: 0.74143\n",
            "[89]\ttraining's rmse: 0.661264\tvalid_1's rmse: 0.739923\n",
            "[90]\ttraining's rmse: 0.660735\tvalid_1's rmse: 0.739889\n",
            "[91]\ttraining's rmse: 0.660271\tvalid_1's rmse: 0.7393\n",
            "[92]\ttraining's rmse: 0.659691\tvalid_1's rmse: 0.73867\n",
            "[93]\ttraining's rmse: 0.659153\tvalid_1's rmse: 0.737065\n",
            "[94]\ttraining's rmse: 0.658627\tvalid_1's rmse: 0.736762\n",
            "[95]\ttraining's rmse: 0.658258\tvalid_1's rmse: 0.735666\n",
            "[96]\ttraining's rmse: 0.6577\tvalid_1's rmse: 0.735805\n",
            "[97]\ttraining's rmse: 0.65688\tvalid_1's rmse: 0.735439\n",
            "[98]\ttraining's rmse: 0.656329\tvalid_1's rmse: 0.734053\n",
            "[99]\ttraining's rmse: 0.655818\tvalid_1's rmse: 0.732559\n",
            "[100]\ttraining's rmse: 0.65533\tvalid_1's rmse: 0.731813\n",
            "[101]\ttraining's rmse: 0.654743\tvalid_1's rmse: 0.731626\n",
            "[102]\ttraining's rmse: 0.654188\tvalid_1's rmse: 0.73062\n",
            "[103]\ttraining's rmse: 0.653717\tvalid_1's rmse: 0.729094\n",
            "[104]\ttraining's rmse: 0.653268\tvalid_1's rmse: 0.729265\n",
            "[105]\ttraining's rmse: 0.652736\tvalid_1's rmse: 0.728879\n",
            "[106]\ttraining's rmse: 0.652295\tvalid_1's rmse: 0.72949\n",
            "[107]\ttraining's rmse: 0.651729\tvalid_1's rmse: 0.730303\n",
            "[108]\ttraining's rmse: 0.651278\tvalid_1's rmse: 0.730277\n",
            "[109]\ttraining's rmse: 0.650752\tvalid_1's rmse: 0.729696\n",
            "[110]\ttraining's rmse: 0.650396\tvalid_1's rmse: 0.729735\n",
            "[111]\ttraining's rmse: 0.650121\tvalid_1's rmse: 0.729263\n",
            "[112]\ttraining's rmse: 0.649659\tvalid_1's rmse: 0.729409\n",
            "[113]\ttraining's rmse: 0.649251\tvalid_1's rmse: 0.729023\n",
            "[114]\ttraining's rmse: 0.64884\tvalid_1's rmse: 0.728638\n",
            "[115]\ttraining's rmse: 0.648434\tvalid_1's rmse: 0.72793\n",
            "[116]\ttraining's rmse: 0.64791\tvalid_1's rmse: 0.728428\n",
            "[117]\ttraining's rmse: 0.647476\tvalid_1's rmse: 0.7273\n",
            "[118]\ttraining's rmse: 0.647138\tvalid_1's rmse: 0.727229\n",
            "[119]\ttraining's rmse: 0.646842\tvalid_1's rmse: 0.726584\n"
          ],
          "name": "stdout"
        },
        {
          "output_type": "stream",
          "text": [
            "/usr/local/lib/python3.6/dist-packages/lightgbm/engine.py:118: UserWarning: Found `n_estimators` in params. Will use it instead of argument\n",
            "  warnings.warn(\"Found `{}` in params. Will use it instead of argument\".format(alias))\n"
          ],
          "name": "stderr"
        },
        {
          "output_type": "stream",
          "text": [
            "LGB dev RMSLE: 0.7265843779309232\n"
          ],
          "name": "stdout"
        }
      ]
    },
    {
      "cell_type": "code",
      "metadata": {
        "id": "itJHb-SHaJox",
        "colab_type": "code",
        "colab": {}
      },
      "source": [
        "from scipy.stats import randint as sp_randint\n",
        "from scipy.stats import uniform"
      ],
      "execution_count": null,
      "outputs": []
    },
    {
      "cell_type": "code",
      "metadata": {
        "id": "RJjEzvU9DBV0",
        "colab_type": "code",
        "colab": {
          "base_uri": "https://localhost:8080/",
          "height": 88
        },
        "outputId": "4ac8438e-cf2c-4f22-832f-d5d40b726915"
      },
      "source": [
        "lgb_model = LGBMRegressor(subsample=0.9)\n",
        "\n",
        "params = {'learning_rate': uniform(0, 1),\n",
        "          'n_estimators': sp_randint(20, 500),\n",
        "          'num_leaves': sp_randint(20, 50),\n",
        "          'max_depth': sp_randint(2, 30),\n",
        "          'min_child_weight': uniform(0, 1),\n",
        "          'colsample_bytree': uniform(0, 1),\n",
        "         }\n",
        "        \n",
        "lgb_random = RandomizedSearchCV(lgb_model, param_distributions=params, n_iter=10, cv=3, random_state=42, \n",
        "                                scoring='neg_root_mean_squared_error', return_train_score=True)\n",
        "lgb_random = lgb_random.fit(train_X, train_y)\n",
        "\n",
        "best_params = lgb_random.best_params_\n",
        "print(best_params)\n",
        "model1 = LGBMRegressor(**best_params, subsample=0.9, random_state=42, n_jobs=-1)\n",
        "model1.fit(train_X, train_y)\n",
        "print('[{}] Train LGBM completed'.format(time.time() - start_time))\n",
        "if develop:\n",
        "    preds = model1.predict(X=valid_X)\n",
        "    print(\"LGBM dev RMSLE:\", rmsle(np.expm1(valid_y), np.expm1(preds)))\n",
        "predsF = model1.predict(X_test)\n",
        "#print('[{}] Predict LGBM completed'.format(time.time() - start_time))"
      ],
      "execution_count": null,
      "outputs": [
        {
          "output_type": "stream",
          "text": [
            "{'colsample_bytree': 0.44583275285359114, 'learning_rate': 0.09997491581800289, 'max_depth': 12, 'min_child_weight': 0.8661761457749352, 'n_estimators': 119, 'num_leaves': 27}\n",
            "[6.133539915084839] Train LGBM completed\n",
            "LGBM dev RMSLE: 0.7367578879378028\n"
          ],
          "name": "stdout"
        }
      ]
    },
    {
      "cell_type": "code",
      "metadata": {
        "id": "spmGiqSgmCXg",
        "colab_type": "code",
        "colab": {}
      },
      "source": [
        "# model2 = Sequential()\n",
        "# model2.add(Dense(256, activation='relu', kernel_initializer='he_normal', input_shape=(train_X.shape[1],)))\n",
        "# model2.add(Dense(128, activation='relu'))\n",
        "# model2.add(Dense(64, activation='relu'))\n",
        "# model2.add(Dense(32, activation='relu'))\n",
        "# model2.add(Dense(16, activation='relu'))\n",
        "# model2.add(Dense(8, activation='relu'))\n",
        "# model2.add(Dense(1))\n",
        "# model2.compile(optimizer='adam', loss='mse')\n",
        "# model2.fit(train_X, train_y, epochs=500, batch_size=16, verbose=0)"
      ],
      "execution_count": null,
      "outputs": []
    },
    {
      "cell_type": "code",
      "metadata": {
        "id": "HwwWRXKSo3Ht",
        "colab_type": "code",
        "colab": {}
      },
      "source": [
        "# if develop:\n",
        "#     preds = model2.predict(valid_X)\n",
        "#     preds.reshape(-1)\n",
        "#     print(\"LGB dev RMSLE:\", rmsle(np.expm1(valid_y), np.expm1(preds1)))"
      ],
      "execution_count": null,
      "outputs": []
    },
    {
      "cell_type": "code",
      "metadata": {
        "id": "qx2ipf5Uxv-O",
        "colab_type": "code",
        "colab": {}
      },
      "source": [
        "# from sklearn.linear_model import LogisticRegression\n",
        "# from sklearn.linear_model import RidgeClassifier\n",
        "# from sklearn.linear_model import SGDClassifier\n",
        "# from sklearn.neighbors import KNeighborsClassifier\n",
        "# from sklearn.tree import DecisionTreeClassifier\n",
        "# from sklearn.tree import ExtraTreeClassifier\n",
        "# from sklearn.svm import SVC\n",
        "# from sklearn.naive_bayes import GaussianNB\n",
        "# from sklearn.ensemble import AdaBoostClassifier\n",
        "# from sklearn.ensemble import BaggingClassifier\n",
        "# from sklearn.ensemble import RandomForestClassifier\n",
        "# from sklearn.ensemble import ExtraTreesClassifier\n",
        "# from sklearn.ensemble import GradientBoostingClassifier\n",
        "# from xgboost import XGBClassifier\n",
        "# from xgboost import XGBRegressor\n",
        "from sklearn.ensemble import AdaBoostRegressor\n",
        "from sklearn.ensemble import BaggingRegressor\n",
        "from sklearn.ensemble import RandomForestRegressor\n",
        "from sklearn.ensemble import ExtraTreesRegressor\n",
        "from sklearn.ensemble import GradientBoostingRegressor\n",
        "\n",
        "def GetBasedModel():\n",
        "  basedModels = []\n",
        "  basedModels.append(('AB'   , AdaBoostRegressor()))\n",
        "  basedModels.append(('GBM'  , GradientBoostingRegressor()))\n",
        "  basedModels.append(('RF'   , RandomForestRegressor()))\n",
        "  basedModels.append(('ET'   , ExtraTreesRegressor()))\n",
        "  return basedModels\n",
        "\n",
        "def BasedLine2(dfx, dfy, testx, testy, models):\n",
        "  results = []\n",
        "  names = []\n",
        "  for name, model in models:\n",
        "      model.fit(dfx, dfy)\n",
        "      cv_results = model.score(testx, testy)\n",
        "      results.append(cv_results)\n",
        "      names.append(name)\n",
        "  dd = ({\"Algorithm\":names, \"Score\":results})\n",
        "  return dd\n",
        "\n",
        "models = GetBasedModel()"
      ],
      "execution_count": null,
      "outputs": []
    },
    {
      "cell_type": "code",
      "metadata": {
        "id": "wtOgChprxv7p",
        "colab_type": "code",
        "colab": {
          "base_uri": "https://localhost:8080/",
          "height": 102
        },
        "outputId": "9471dd4b-11c7-40fc-aac7-59316ac2c45d"
      },
      "source": [
        "scores = BasedLine2(train_X, train_y, valid_X, valid_y, models)\n",
        "scores"
      ],
      "execution_count": null,
      "outputs": [
        {
          "output_type": "execute_result",
          "data": {
            "text/plain": [
              "{'Algorithm': ['AB', 'GBM', 'RF', 'ET'],\n",
              " 'Score': [0.5405736339477187,\n",
              "  0.7213194476009637,\n",
              "  0.7260180861022476,\n",
              "  0.5709284035074229]}"
            ]
          },
          "metadata": {
            "tags": []
          },
          "execution_count": 204
        }
      ]
    },
    {
      "cell_type": "code",
      "metadata": {
        "id": "L7yPPqfmxv0h",
        "colab_type": "code",
        "colab": {
          "base_uri": "https://localhost:8080/",
          "height": 68
        },
        "outputId": "0525864b-4d0a-461d-8a25-836c49e37770"
      },
      "source": [
        "model4 = AdaBoostRegressor()\n",
        "model4.fit(train_X, train_y)\n",
        "print('[{}] Train LGBM completed'.format(time.time() - start_time))\n",
        "if develop:\n",
        "    preds = model4.predict(X=valid_X)\n",
        "    print(\"ABR dev RMSLE:\", rmsle(np.expm1(valid_y), np.expm1(preds)))\n",
        "preds_abr = model4.predict(X_test)\n",
        "print('[{}] Predict LGBM completed'.format(time.time() - start_time))"
      ],
      "execution_count": null,
      "outputs": [
        {
          "output_type": "stream",
          "text": [
            "[20.02197504043579] Train LGBM completed\n",
            "ABR dev RMSLE: 0.8037731422679876\n",
            "[20.03357768058777] Predict LGBM completed\n"
          ],
          "name": "stdout"
        }
      ]
    },
    {
      "cell_type": "code",
      "metadata": {
        "id": "MILCGoInxvvj",
        "colab_type": "code",
        "colab": {
          "base_uri": "https://localhost:8080/",
          "height": 68
        },
        "outputId": "553d5b88-25ba-4913-9e96-c0e9c21325aa"
      },
      "source": [
        "model5 = GradientBoostingRegressor()\n",
        "model5.fit(train_X, train_y)\n",
        "print('[{}] Train LGBM completed'.format(time.time() - start_time))\n",
        "if develop:\n",
        "    preds = model5.predict(X=valid_X)\n",
        "    print(\"ETR dev RMSLE:\", rmsle(np.expm1(valid_y), np.expm1(preds)))\n",
        "preds_ETR = model5.predict(X_test)\n",
        "print('[{}] Predict LGBM completed'.format(time.time() - start_time))\n",
        "#gave a score of 0.76316 position-90"
      ],
      "execution_count": null,
      "outputs": [
        {
          "output_type": "stream",
          "text": [
            "[20.329955101013184] Train LGBM completed\n",
            "ETR dev RMSLE: 0.6242968668272914\n",
            "[20.334314584732056] Predict LGBM completed\n"
          ],
          "name": "stdout"
        }
      ]
    },
    {
      "cell_type": "code",
      "metadata": {
        "id": "FeMNbzMxxvsA",
        "colab_type": "code",
        "colab": {
          "base_uri": "https://localhost:8080/",
          "height": 68
        },
        "outputId": "02475acc-d2aa-4156-efdb-79ded9b6b2ce"
      },
      "source": [
        "model6 = RandomForestRegressor()\n",
        "model6.fit(train_X, train_y)\n",
        "print('[{}] Train LGBM completed'.format(time.time() - start_time))\n",
        "if develop:\n",
        "    preds = model6.predict(X=valid_X)\n",
        "    print(\"ETR dev RMSLE:\", rmsle(np.expm1(valid_y), np.expm1(preds)))\n",
        "preds_RF = model6.predict(X_test)\n",
        "print('[{}] Predict LGBM completed'.format(time.time() - start_time))"
      ],
      "execution_count": null,
      "outputs": [
        {
          "output_type": "stream",
          "text": [
            "[26.319971799850464] Train LGBM completed\n",
            "ETR dev RMSLE: 0.6173636601211633\n",
            "[26.374534606933594] Predict LGBM completed\n"
          ],
          "name": "stdout"
        }
      ]
    },
    {
      "cell_type": "code",
      "metadata": {
        "id": "v0seltLv7TA0",
        "colab_type": "code",
        "colab": {}
      },
      "source": [
        "from sklearn.model_selection import GridSearchCV"
      ],
      "execution_count": null,
      "outputs": []
    },
    {
      "cell_type": "code",
      "metadata": {
        "id": "ez7aYKSi6WH-",
        "colab_type": "code",
        "colab": {}
      },
      "source": [
        "param_grid = {\n",
        "    \"learning_rate\": [0.01, 0.025, 0.05, 0.075, 0.1, 0.15, 0.2],\n",
        "    'max_depth': [8, 10, 12, 14],\n",
        "    # 'max_features': [2, 3],\n",
        "    'min_samples_leaf': [3, 4, 5],\n",
        "    'min_samples_split': [8, 10, 12],\n",
        "    'n_estimators': [100, 120, 130, 150]\n",
        "}"
      ],
      "execution_count": null,
      "outputs": []
    },
    {
      "cell_type": "code",
      "metadata": {
        "id": "uQ7A7Fc083m9",
        "colab_type": "code",
        "colab": {
          "base_uri": "https://localhost:8080/",
          "height": 646
        },
        "outputId": "b9583bdc-6a09-4cc4-fbe3-c8445decabc6"
      },
      "source": [
        "rf = GradientBoostingRegressor()\n",
        "grid_search = GridSearchCV(estimator = rf, param_grid = param_grid, \n",
        "                          cv = 3, n_jobs = -1, verbose = 2)\n",
        "grid_search.fit(train_X, train_y)"
      ],
      "execution_count": null,
      "outputs": [
        {
          "output_type": "stream",
          "text": [
            "Fitting 3 folds for each of 1008 candidates, totalling 3024 fits\n"
          ],
          "name": "stdout"
        },
        {
          "output_type": "stream",
          "text": [
            "[Parallel(n_jobs=-1)]: Using backend LokyBackend with 2 concurrent workers.\n",
            "[Parallel(n_jobs=-1)]: Done  37 tasks      | elapsed:   19.8s\n",
            "[Parallel(n_jobs=-1)]: Done 158 tasks      | elapsed:  1.4min\n",
            "[Parallel(n_jobs=-1)]: Done 361 tasks      | elapsed:  3.8min\n",
            "[Parallel(n_jobs=-1)]: Done 644 tasks      | elapsed:  6.6min\n",
            "[Parallel(n_jobs=-1)]: Done 1009 tasks      | elapsed: 10.5min\n",
            "[Parallel(n_jobs=-1)]: Done 1454 tasks      | elapsed: 15.0min\n",
            "[Parallel(n_jobs=-1)]: Done 1981 tasks      | elapsed: 20.3min\n",
            "[Parallel(n_jobs=-1)]: Done 2588 tasks      | elapsed: 26.6min\n",
            "[Parallel(n_jobs=-1)]: Done 3024 out of 3024 | elapsed: 31.0min finished\n"
          ],
          "name": "stderr"
        },
        {
          "output_type": "execute_result",
          "data": {
            "text/plain": [
              "GridSearchCV(cv=3, error_score=nan,\n",
              "             estimator=GradientBoostingRegressor(alpha=0.9, ccp_alpha=0.0,\n",
              "                                                 criterion='friedman_mse',\n",
              "                                                 init=None, learning_rate=0.1,\n",
              "                                                 loss='ls', max_depth=3,\n",
              "                                                 max_features=None,\n",
              "                                                 max_leaf_nodes=None,\n",
              "                                                 min_impurity_decrease=0.0,\n",
              "                                                 min_impurity_split=None,\n",
              "                                                 min_samples_leaf=1,\n",
              "                                                 min_samples_split=2,\n",
              "                                                 min_weight_fraction_leaf=0.0,\n",
              "                                                 n_estimators=100,\n",
              "                                                 n_iter_n...\n",
              "                                                 subsample=1.0, tol=0.0001,\n",
              "                                                 validation_fraction=0.1,\n",
              "                                                 verbose=0, warm_start=False),\n",
              "             iid='deprecated', n_jobs=-1,\n",
              "             param_grid={'learning_rate': [0.01, 0.025, 0.05, 0.075, 0.1, 0.15,\n",
              "                                           0.2],\n",
              "                         'max_depth': [8, 10, 12, 14],\n",
              "                         'min_samples_leaf': [3, 4, 5],\n",
              "                         'min_samples_split': [8, 10, 12],\n",
              "                         'n_estimators': [100, 120, 130, 150]},\n",
              "             pre_dispatch='2*n_jobs', refit=True, return_train_score=False,\n",
              "             scoring=None, verbose=2)"
            ]
          },
          "metadata": {
            "tags": []
          },
          "execution_count": 210
        }
      ]
    },
    {
      "cell_type": "code",
      "metadata": {
        "id": "lhZhTL51BKvz",
        "colab_type": "code",
        "colab": {
          "base_uri": "https://localhost:8080/",
          "height": 408
        },
        "outputId": "c15c33bd-9b8c-4dc8-b9bb-f0220c36f48e"
      },
      "source": [
        "# model = GradientBoostingRegressor()\n",
        "# parameters = {'learning_rate': [0.01,0.02,0.03],\n",
        "#               'subsample'    : [0.9, 0.5, 0.2],\n",
        "#               'n_estimators' : [100,500,1000],\n",
        "#               'max_depth'    : [4,6,8]\n",
        "#               }\n",
        "# grid = GridSearchCV(estimator=model, param_grid = parameters, cv = 2, n_jobs=-1)\n",
        "# grid.fit(X_train, y_train)\n",
        "\n",
        "# Results from Grid Search\n",
        "print(\"\\n========================================================\")\n",
        "print(\" Results from Grid Search \" )\n",
        "print(\"========================================================\")\n",
        "print(\"\\n The best estimator across ALL searched params:\\n\",\n",
        "      grid_search.best_estimator_)\n",
        "print(\"\\n The best score across ALL searched params:\\n\",\n",
        "      grid_search.best_score_)\n",
        "print(\"\\n The best parameters across ALL searched params:\\n\",\n",
        "      grid_search.best_params_)\n",
        "print(\"\\n ========================================================\")"
      ],
      "execution_count": null,
      "outputs": [
        {
          "output_type": "stream",
          "text": [
            "\n",
            "========================================================\n",
            " Results from Grid Search \n",
            "========================================================\n",
            "\n",
            " The best estimator across ALL searched params:\n",
            " GradientBoostingRegressor(alpha=0.9, ccp_alpha=0.0, criterion='friedman_mse',\n",
            "                          init=None, learning_rate=0.05, loss='ls', max_depth=8,\n",
            "                          max_features=None, max_leaf_nodes=None,\n",
            "                          min_impurity_decrease=0.0, min_impurity_split=None,\n",
            "                          min_samples_leaf=3, min_samples_split=10,\n",
            "                          min_weight_fraction_leaf=0.0, n_estimators=150,\n",
            "                          n_iter_no_change=None, presort='deprecated',\n",
            "                          random_state=None, subsample=1.0, tol=0.0001,\n",
            "                          validation_fraction=0.1, verbose=0, warm_start=False)\n",
            "\n",
            " The best score across ALL searched params:\n",
            " 0.6324127448239357\n",
            "\n",
            " The best parameters across ALL searched params:\n",
            " {'learning_rate': 0.05, 'max_depth': 8, 'min_samples_leaf': 3, 'min_samples_split': 10, 'n_estimators': 150}\n",
            "\n",
            " ========================================================\n"
          ],
          "name": "stdout"
        }
      ]
    },
    {
      "cell_type": "code",
      "metadata": {
        "id": "JGQQZBVeD-ay",
        "colab_type": "code",
        "colab": {
          "base_uri": "https://localhost:8080/",
          "height": 51
        },
        "outputId": "f922fe2a-dcdd-4ee9-df64-4a27f0ba0fbd"
      },
      "source": [
        "best_params = grid_search.best_params_\n",
        "model7 = GradientBoostingRegressor(**best_params)\n",
        "model7.fit(train_X, train_y)\n",
        "print('[{}] Train LGBM completed'.format(time.time() - start_time))\n",
        "if develop:\n",
        "    preds = model7.predict(X=valid_X)\n",
        "    print(\"LGBM dev RMSLE:\", rmsle(np.expm1(valid_y), np.expm1(preds)))\n",
        "preds7 = model7.predict(X_test)\n",
        "#print('[{}] Predict LGBM completed'.format(time.time() - start_time))\n",
        "#scoring is 0.62\n",
        "#Leaderborad scoring 0.75142"
      ],
      "execution_count": null,
      "outputs": [
        {
          "output_type": "stream",
          "text": [
            "[4896.860023498535] Train LGBM completed\n",
            "LGBM dev RMSLE: 0.6171693572320264\n"
          ],
          "name": "stdout"
        }
      ]
    },
    {
      "cell_type": "code",
      "metadata": {
        "id": "5JmLQo706WFX",
        "colab_type": "code",
        "colab": {
          "base_uri": "https://localhost:8080/",
          "height": 88
        },
        "outputId": "0ee7aa1c-2af7-4ff8-da0d-4cb083c5e135"
      },
      "source": [
        "from sklearn.model_selection import KFold, cross_val_score\n",
        "random_state=42\n",
        "n_iter=50\n",
        "num_folds=2\n",
        "kf = KFold(n_splits=num_folds, random_state=random_state)\n",
        "model = LGBMRegressor(random_state=random_state)\n",
        "score = -cross_val_score(model, train_X, train_y, cv=kf, scoring=\"neg_mean_squared_error\", n_jobs=-1).mean()\n",
        "print(score)"
      ],
      "execution_count": null,
      "outputs": [
        {
          "output_type": "stream",
          "text": [
            "/usr/local/lib/python3.6/dist-packages/sklearn/model_selection/_split.py:296: FutureWarning: Setting a random_state has no effect since shuffle is False. This will raise an error in 0.24. You should leave random_state to its default (None), or set shuffle=True.\n",
            "  FutureWarning\n"
          ],
          "name": "stderr"
        },
        {
          "output_type": "stream",
          "text": [
            "0.64522211763189\n"
          ],
          "name": "stdout"
        }
      ]
    },
    {
      "cell_type": "code",
      "metadata": {
        "id": "-H2wxQjJyjsH",
        "colab_type": "code",
        "colab": {}
      },
      "source": [
        "#!pip install hyperopt\n",
        "from hyperopt import fmin, tpe, hp, anneal, Trials"
      ],
      "execution_count": null,
      "outputs": []
    },
    {
      "cell_type": "code",
      "metadata": {
        "id": "drHLWLaayjlV",
        "colab_type": "code",
        "colab": {}
      },
      "source": [
        "from hyperopt import fmin, tpe, hp, anneal, Trials\n",
        "def gb_mse_cv(params, random_state=random_state, cv=kf, X=train_X, y=train_y):\n",
        "    # the function gets a set of variable parameters in \"param\"\n",
        "    params = {'n_estimators': int(params['n_estimators']), \n",
        "              'max_depth': int(params['max_depth']), \n",
        "             'learning_rate': params['learning_rate']}\n",
        "    \n",
        "    # we use this params to create a new LGBM Regressor\n",
        "    model = LGBMRegressor(random_state=random_state, **params)\n",
        "    \n",
        "    # and then conduct the cross validation with the same folds as before\n",
        "    score = -cross_val_score(model, valid_X, valid_y, cv=cv, scoring=\"neg_mean_squared_error\", n_jobs=-1).mean()\n",
        "\n",
        "    return score"
      ],
      "execution_count": null,
      "outputs": []
    },
    {
      "cell_type": "code",
      "metadata": {
        "id": "5sBBTindyjiv",
        "colab_type": "code",
        "colab": {
          "base_uri": "https://localhost:8080/",
          "height": 85
        },
        "outputId": "10f23fdb-32e0-4525-a372-4934bf002aab"
      },
      "source": [
        "%%time\n",
        "\n",
        "# possible values of parameters\n",
        "space={'n_estimators': hp.quniform('n_estimators', 100, 2000, 1),\n",
        "       'max_depth' : hp.quniform('max_depth', 2, 20, 1),\n",
        "       'learning_rate': hp.loguniform('learning_rate', -5, 0)\n",
        "      }\n",
        "\n",
        "# trials will contain logging information\n",
        "trials = Trials()\n",
        "\n",
        "best=fmin(fn=gb_mse_cv, # function to optimize\n",
        "          space=space, \n",
        "          algo=anneal.suggest, # optimization algorithm, hyperotp will select its parameters automatically\n",
        "          max_evals=n_iter, # maximum number of iterations\n",
        "          trials=trials, # logging\n",
        "          rstate=np.random.RandomState(random_state) # fixing random state for the reproducibility\n",
        "         )\n",
        "\n",
        "# computing the score on the test set\n",
        "model = LGBMRegressor(random_state=random_state, n_estimators=int(best['n_estimators']),\n",
        "                      max_depth=int(best['max_depth']),learning_rate=best['learning_rate'])\n",
        "model.fit(train_X,train_y)\n",
        "tpe_test_score=mean_squared_error(valid_y, model.predict(valid_X))\n",
        "\n",
        "print(\"Best MSE {:.3f} params {}\".format( gb_mse_cv(best), best))"
      ],
      "execution_count": null,
      "outputs": [
        {
          "output_type": "stream",
          "text": [
            "100%|██████████| 50/50 [00:04<00:00, 10.08it/s, best loss: 1.6089058341697462]\n",
            "Best MSE 1.609 params {'learning_rate': 0.008620801572649293, 'max_depth': 9.0, 'n_estimators': 382.0}\n",
            "CPU times: user 1.04 s, sys: 92.8 ms, total: 1.14 s\n",
            "Wall time: 5.27 s\n"
          ],
          "name": "stdout"
        }
      ]
    },
    {
      "cell_type": "code",
      "metadata": {
        "id": "M6LooCEOyjgC",
        "colab_type": "code",
        "colab": {}
      },
      "source": [
        "tpe_results=np.array([[x['result']['loss'],\n",
        "                      x['misc']['vals']['learning_rate'][0],\n",
        "                      x['misc']['vals']['max_depth'][0],\n",
        "                      x['misc']['vals']['n_estimators'][0]] for x in trials.trials])"
      ],
      "execution_count": null,
      "outputs": []
    },
    {
      "cell_type": "code",
      "metadata": {
        "id": "8TT674HD05HS",
        "colab_type": "code",
        "colab": {}
      },
      "source": [
        "tpe_results"
      ],
      "execution_count": null,
      "outputs": []
    },
    {
      "cell_type": "code",
      "metadata": {
        "id": "sVCwQLJCr09O",
        "colab_type": "code",
        "colab": {
          "base_uri": "https://localhost:8080/",
          "height": 627
        },
        "outputId": "de396211-c4b7-4c65-f6e8-963759b1e94d"
      },
      "source": [
        "tpe_results_df = pd.DataFrame.from_records(tpe_results, columns=['score', 'learning_rate', 'max_depth', 'n_estimators'])\n",
        "tpe_results_df.plot(subplots=True,figsize=(10, 10))"
      ],
      "execution_count": null,
      "outputs": [
        {
          "output_type": "execute_result",
          "data": {
            "text/plain": [
              "array([<matplotlib.axes._subplots.AxesSubplot object at 0x7fc30712ccf8>,\n",
              "       <matplotlib.axes._subplots.AxesSubplot object at 0x7fc309a1cb38>,\n",
              "       <matplotlib.axes._subplots.AxesSubplot object at 0x7fc309d975f8>,\n",
              "       <matplotlib.axes._subplots.AxesSubplot object at 0x7fc30a43f5f8>],\n",
              "      dtype=object)"
            ]
          },
          "metadata": {
            "tags": []
          },
          "execution_count": 244
        },
        {
          "output_type": "display_data",
          "data": {
            "image/png": "[encoded data removed]",
            "text/plain": [
              "<Figure size 720x720 with 4 Axes>"
            ]
          },
          "metadata": {
            "tags": [],
            "needs_background": "light"
          }
        }
      ]
    },
    {
      "cell_type": "code",
      "metadata": {
        "id": "VVTeC3HI24_3",
        "colab_type": "code",
        "colab": {
          "base_uri": "https://localhost:8080/",
          "height": 34
        },
        "outputId": "e174dd67-0ec7-48bd-a3cb-221619301514"
      },
      "source": [
        "if develop:\n",
        "    preds = model.predict(X=valid_X)\n",
        "    print(\"LGBM dev RMSLE:\", rmsle(np.expm1(valid_y), np.expm1(preds)))\n",
        "preds7 = model7.predict(X_test)"
      ],
      "execution_count": null,
      "outputs": [
        {
          "output_type": "stream",
          "text": [
            "LGBM dev RMSLE: 0.7932305992166185\n"
          ],
          "name": "stdout"
        }
      ]
    },
    {
      "cell_type": "code",
      "metadata": {
        "id": "0RQTd3_T244w",
        "colab_type": "code",
        "colab": {
          "base_uri": "https://localhost:8080/",
          "height": 204
        },
        "outputId": "ce649b44-6cfc-4245-b298-621ee225f0c5"
      },
      "source": [
        "ss = df[['Item_Rating']].head(10)\n",
        "ss.columns = ['rating']\n",
        "ss.head()"
      ],
      "execution_count": null,
      "outputs": [
        {
          "output_type": "execute_result",
          "data": {
            "text/html": [
              "<div>\n",
              "<style scoped>\n",
              "    .dataframe tbody tr th:only-of-type {\n",
              "        vertical-align: middle;\n",
              "    }\n",
              "\n",
              "    .dataframe tbody tr th {\n",
              "        vertical-align: top;\n",
              "    }\n",
              "\n",
              "    .dataframe thead th {\n",
              "        text-align: right;\n",
              "    }\n",
              "</style>\n",
              "<table border=\"1\" class=\"dataframe\">\n",
              "  <thead>\n",
              "    <tr style=\"text-align: right;\">\n",
              "      <th></th>\n",
              "      <th>rating</th>\n",
              "    </tr>\n",
              "  </thead>\n",
              "  <tbody>\n",
              "    <tr>\n",
              "      <th>0</th>\n",
              "      <td>4.3</td>\n",
              "    </tr>\n",
              "    <tr>\n",
              "      <th>1</th>\n",
              "      <td>3.1</td>\n",
              "    </tr>\n",
              "    <tr>\n",
              "      <th>2</th>\n",
              "      <td>3.5</td>\n",
              "    </tr>\n",
              "    <tr>\n",
              "      <th>3</th>\n",
              "      <td>4.0</td>\n",
              "    </tr>\n",
              "    <tr>\n",
              "      <th>4</th>\n",
              "      <td>4.3</td>\n",
              "    </tr>\n",
              "  </tbody>\n",
              "</table>\n",
              "</div>"
            ],
            "text/plain": [
              "   rating\n",
              "0     4.3\n",
              "1     3.1\n",
              "2     3.5\n",
              "3     4.0\n",
              "4     4.3"
            ]
          },
          "metadata": {
            "tags": []
          },
          "execution_count": 254
        }
      ]
    },
    {
      "cell_type": "code",
      "metadata": {
        "id": "1wKOXf1t242L",
        "colab_type": "code",
        "colab": {
          "base_uri": "https://localhost:8080/",
          "height": 204
        },
        "outputId": "a7c29d7b-556a-4193-f35e-396968c32494"
      },
      "source": [
        "ss['rating_shif1'] = ss['rating'].shift(1)\n",
        "ss.head()"
      ],
      "execution_count": null,
      "outputs": [
        {
          "output_type": "execute_result",
          "data": {
            "text/html": [
              "<div>\n",
              "<style scoped>\n",
              "    .dataframe tbody tr th:only-of-type {\n",
              "        vertical-align: middle;\n",
              "    }\n",
              "\n",
              "    .dataframe tbody tr th {\n",
              "        vertical-align: top;\n",
              "    }\n",
              "\n",
              "    .dataframe thead th {\n",
              "        text-align: right;\n",
              "    }\n",
              "</style>\n",
              "<table border=\"1\" class=\"dataframe\">\n",
              "  <thead>\n",
              "    <tr style=\"text-align: right;\">\n",
              "      <th></th>\n",
              "      <th>rating</th>\n",
              "      <th>rating_shif1</th>\n",
              "    </tr>\n",
              "  </thead>\n",
              "  <tbody>\n",
              "    <tr>\n",
              "      <th>0</th>\n",
              "      <td>4.3</td>\n",
              "      <td>NaN</td>\n",
              "    </tr>\n",
              "    <tr>\n",
              "      <th>1</th>\n",
              "      <td>3.1</td>\n",
              "      <td>4.3</td>\n",
              "    </tr>\n",
              "    <tr>\n",
              "      <th>2</th>\n",
              "      <td>3.5</td>\n",
              "      <td>3.1</td>\n",
              "    </tr>\n",
              "    <tr>\n",
              "      <th>3</th>\n",
              "      <td>4.0</td>\n",
              "      <td>3.5</td>\n",
              "    </tr>\n",
              "    <tr>\n",
              "      <th>4</th>\n",
              "      <td>4.3</td>\n",
              "      <td>4.0</td>\n",
              "    </tr>\n",
              "  </tbody>\n",
              "</table>\n",
              "</div>"
            ],
            "text/plain": [
              "   rating  rating_shif1\n",
              "0     4.3           NaN\n",
              "1     3.1           4.3\n",
              "2     3.5           3.1\n",
              "3     4.0           3.5\n",
              "4     4.3           4.0"
            ]
          },
          "metadata": {
            "tags": []
          },
          "execution_count": 255
        }
      ]
    },
    {
      "cell_type": "code",
      "metadata": {
        "id": "wm0WDkHV24x6",
        "colab_type": "code",
        "colab": {}
      },
      "source": [
        ""
      ],
      "execution_count": null,
      "outputs": []
    },
    {
      "cell_type": "code",
      "metadata": {
        "id": "wo5NTq-824ss",
        "colab_type": "code",
        "colab": {}
      },
      "source": [
        ""
      ],
      "execution_count": null,
      "outputs": []
    },
    {
      "cell_type": "code",
      "metadata": {
        "id": "yHl1f9nYvMjI",
        "colab_type": "code",
        "colab": {}
      },
      "source": [
        "preds = preds7"
      ],
      "execution_count": null,
      "outputs": []
    },
    {
      "cell_type": "code",
      "metadata": {
        "id": "a9Dnp4z6vWYZ",
        "colab_type": "code",
        "colab": {
          "base_uri": "https://localhost:8080/",
          "height": 34
        },
        "outputId": "8cd33fd8-f0b3-4830-b347-f18510638afb"
      },
      "source": [
        "preds.shape"
      ],
      "execution_count": null,
      "outputs": [
        {
          "output_type": "execute_result",
          "data": {
            "text/plain": [
              "(1051,)"
            ]
          },
          "metadata": {
            "tags": []
          },
          "execution_count": 214
        }
      ]
    },
    {
      "cell_type": "code",
      "metadata": {
        "id": "N0oIK1bKvMg2",
        "colab_type": "code",
        "colab": {}
      },
      "source": [
        "submission['Selling_Price'] = np.expm1(preds)"
      ],
      "execution_count": null,
      "outputs": []
    },
    {
      "cell_type": "code",
      "metadata": {
        "id": "xvanDIoovMd-",
        "colab_type": "code",
        "colab": {
          "base_uri": "https://localhost:8080/",
          "height": 34
        },
        "outputId": "c1a7885d-60f8-4e10-c0f4-7c4318289a30"
      },
      "source": [
        "submission.columns"
      ],
      "execution_count": null,
      "outputs": [
        {
          "output_type": "execute_result",
          "data": {
            "text/plain": [
              "Index(['Product', 'Selling_Price'], dtype='object')"
            ]
          },
          "metadata": {
            "tags": []
          },
          "execution_count": 216
        }
      ]
    },
    {
      "cell_type": "code",
      "metadata": {
        "id": "fBdeD1uzztJa",
        "colab_type": "code",
        "colab": {}
      },
      "source": [
        "#submission.drop(['Product'], axis=1, inplace=True)\n",
        "#submission.columns"
      ],
      "execution_count": null,
      "outputs": []
    },
    {
      "cell_type": "code",
      "metadata": {
        "id": "-A1AP7LU0Rc9",
        "colab_type": "code",
        "colab": {}
      },
      "source": [
        "submission.to_excel('nags_model7.xls', index=False)\n",
        "files.download('nags_model7.xls')"
      ],
      "execution_count": null,
      "outputs": []
    },
    {
      "cell_type": "code",
      "metadata": {
        "id": "Ak5BdO2HgN94",
        "colab_type": "code",
        "colab": {}
      },
      "source": [
        ""
      ],
      "execution_count": null,
      "outputs": []
    },
    {
      "cell_type": "code",
      "metadata": {
        "id": "11C0vbi8gN4P",
        "colab_type": "code",
        "colab": {}
      },
      "source": [
        ""
      ],
      "execution_count": null,
      "outputs": []
    },
    {
      "cell_type": "code",
      "metadata": {
        "id": "yRhtvAG3gN1O",
        "colab_type": "code",
        "colab": {}
      },
      "source": [
        ""
      ],
      "execution_count": null,
      "outputs": []
    },
    {
      "cell_type": "code",
      "metadata": {
        "id": "CaV5bWwoDBTj",
        "colab_type": "code",
        "colab": {}
      },
      "source": [
        "model = LGBMRegressor(**best_params, subsample=0.9, random_state=42, n_jobs=-1)\n",
        "model.fit(train_X, train_y)\n",
        "print('[{}] Train LGBM completed'.format(time.time() - start_time))\n",
        "if develop:\n",
        "    preds = model.predict(X=valid_X)\n",
        "    print(\"LGBM dev RMSLE:\", rmsle(np.expm1(valid_y), np.expm1(preds)))\n",
        "predsF = model.predict(X_test)\n",
        "print('[{}] Predict LGBM completed'.format(time.time() - start_time))"
      ],
      "execution_count": null,
      "outputs": []
    },
    {
      "cell_type": "code",
      "metadata": {
        "id": "dMkbIyxR5RTj",
        "colab_type": "code",
        "colab": {}
      },
      "source": [
        "alpha = [1, 2, 3, 3.5, 4, 4.5, 5] \n",
        "cv_rmsle_array=[] \n",
        "for i in alpha:\n",
        "  model = Ridge(solver=\"sag\", random_state=42, alpha=i)\n",
        "  model.fit(train_X, train_y)\n",
        "  preds_cv = model.predict(valid_X)\n",
        "  rm = rmsle(np.expm1(valid_y), np.expm1(preds_cv))\n",
        "  cv_rmsle_array.append(rm)\n",
        "\n",
        "for i in range(len(cv_rmsle_array)):\n",
        "    print ('RMSLE for alpha = ',alpha[i],'is',cv_rmsle_array[i])\n",
        "    \n",
        "best_alpha = np.argmin(cv_rmsle_array)\n",
        "\n",
        "fig, ax = plt.subplots()\n",
        "ax.plot(alpha, cv_rmsle_array)\n",
        "ax.scatter(alpha, cv_rmsle_array)\n",
        "for i, txt in enumerate(np.round(cv_rmsle_array,3)):\n",
        "    ax.annotate((alpha[i],np.round(txt,3)), (alpha[i],cv_rmsle_array[i]))\n",
        "\n",
        "plt.title(\"Cross Validation Error for each alpha\")\n",
        "plt.xlabel(\"Alpha\")\n",
        "plt.ylabel(\"Error\")\n",
        "plt.show()"
      ],
      "execution_count": null,
      "outputs": []
    },
    {
      "cell_type": "code",
      "metadata": {
        "id": "mIfFy6enAzZ9",
        "colab_type": "code",
        "colab": {}
      },
      "source": [
        "print(\"Best alpha: \",  alpha[best_alpha])\n",
        "model = Ridge(solver=\"sag\", random_state=42, alpha=alpha[best_alpha])\n",
        "model.fit(train_X, train_y)\n",
        "ridge_preds_tr = model.predict(train_X)\n",
        "ridge_preds_cv = model.predict(valid_X)\n",
        "\n",
        "print('Training error', rmsle(np.expm1(train_y), np.expm1(ridge_preds_tr)))\n",
        "ridge_rmsle = rmsle(np.expm1(valid_y), np.expm1(ridge_preds_cv))\n",
        "print(\"Cross validation RMSLE: \", ridge_rmsle)"
      ],
      "execution_count": null,
      "outputs": []
    },
    {
      "cell_type": "code",
      "metadata": {
        "id": "AGDPKSJnCRsg",
        "colab_type": "code",
        "colab": {}
      },
      "source": [
        ""
      ],
      "execution_count": null,
      "outputs": []
    },
    {
      "cell_type": "code",
      "metadata": {
        "id": "pmX4sj-GubV-",
        "colab_type": "code",
        "colab": {}
      },
      "source": [
        "model3 = FTRL(alpha=0.01, beta=0.1, L1=0.00001, L2=1.0, D=sparse_merge.shape[1], iters=50, inv_link=\"identity\", threads=1)\n",
        "model3.fit(train_X, train_y)\n",
        "print('[{}] Train FTRL completed'.format(time.time() - start_time))\n",
        "if develop:\n",
        "    preds = model3.predict(X=valid_X)\n",
        "    print(\"FTRL dev RMSLE:\", rmsle(np.expm1(valid_y), np.expm1(preds)))\n",
        "\n",
        "preds3 = model.predict(X_test)\n",
        "print('[{}] Predict FTRL completed'.format(time.time() - start_time))"
      ],
      "execution_count": null,
      "outputs": []
    },
    {
      "cell_type": "code",
      "metadata": {
        "id": "3DZGm6ksubSf",
        "colab_type": "code",
        "colab": {}
      },
      "source": [
        ""
      ],
      "execution_count": null,
      "outputs": []
    },
    {
      "cell_type": "code",
      "metadata": {
        "id": "aL8Aaxw1NBzI",
        "colab_type": "code",
        "colab": {}
      },
      "source": [
        "train = df.copy()\n",
        "plt.subplot(1, 2, 1)\n",
        "(train['price']).plot.hist(bins=50, figsize=(12, 6), edgecolor = 'white', range = [0, 250])\n",
        "plt.xlabel('price', fontsize=12)\n",
        "plt.title('Price Distribution', fontsize=12)\n",
        "plt.subplot(1, 2, 2)\n",
        "np.log(train['price']+1).plot.hist(bins=50, figsize=(12,6), edgecolor='white')\n",
        "plt.xlabel('log(price+1)', fontsize=12)\n",
        "plt.title('Price Distribution', fontsize=12)"
      ],
      "execution_count": null,
      "outputs": []
    },
    {
      "cell_type": "code",
      "metadata": {
        "id": "VQlK37ScbktI",
        "colab_type": "code",
        "colab": {}
      },
      "source": [
        "#Distribution chart\n",
        "ax = sns.distplot(df.Item_Rating, kde=False)\n",
        "plt.show()"
      ],
      "execution_count": null,
      "outputs": []
    },
    {
      "cell_type": "code",
      "metadata": {
        "id": "HSWmo3SrNBvQ",
        "colab_type": "code",
        "colab": {}
      },
      "source": [
        "plt.scatter(df['Item_Rating'] , df['price'])"
      ],
      "execution_count": null,
      "outputs": []
    },
    {
      "cell_type": "code",
      "metadata": {
        "id": "k05IhI9Qc78R",
        "colab_type": "code",
        "colab": {}
      },
      "source": [
        "df.corr()"
      ],
      "execution_count": null,
      "outputs": []
    },
    {
      "cell_type": "code",
      "metadata": {
        "id": "dnrioUJYc9fp",
        "colab_type": "code",
        "colab": {}
      },
      "source": [
        "df1 = df[['Item_Rating','price']]\n",
        "a = sns.heatmap(df1)"
      ],
      "execution_count": null,
      "outputs": []
    },
    {
      "cell_type": "code",
      "metadata": {
        "id": "CtG-QtY-eRiJ",
        "colab_type": "code",
        "colab": {}
      },
      "source": [
        "ax = sns.heatmap(df, annot=True, fmt=\"d\")"
      ],
      "execution_count": null,
      "outputs": []
    },
    {
      "cell_type": "code",
      "metadata": {
        "id": "9d2koOYRcrj-",
        "colab_type": "code",
        "colab": {}
      },
      "source": [
        "#a = sns.heatmap(df)\n",
        "sns.heatmap(df1.corr())"
      ],
      "execution_count": null,
      "outputs": []
    },
    {
      "cell_type": "code",
      "metadata": {
        "id": "919-byIacebR",
        "colab_type": "code",
        "colab": {}
      },
      "source": [
        "df.dtypes"
      ],
      "execution_count": null,
      "outputs": []
    },
    {
      "cell_type": "code",
      "metadata": {
        "id": "YhsKrQGoNBsN",
        "colab_type": "code",
        "colab": {}
      },
      "source": [
        ""
      ],
      "execution_count": null,
      "outputs": []
    },
    {
      "cell_type": "code",
      "metadata": {
        "id": "Tp3x7ax1sud1",
        "colab_type": "code",
        "colab": {}
      },
      "source": [
        ""
      ],
      "execution_count": null,
      "outputs": []
    },
    {
      "cell_type": "code",
      "metadata": {
        "id": "sm1PpRG6su0Y",
        "colab_type": "code",
        "colab": {}
      },
      "source": [
        ""
      ],
      "execution_count": null,
      "outputs": []
    },
    {
      "cell_type": "code",
      "metadata": {
        "id": "MWzlpFPQsuyB",
        "colab_type": "code",
        "colab": {}
      },
      "source": [
        ""
      ],
      "execution_count": null,
      "outputs": []
    },
    {
      "cell_type": "code",
      "metadata": {
        "id": "mYs8w4adsuwK",
        "colab_type": "code",
        "colab": {}
      },
      "source": [
        ""
      ],
      "execution_count": null,
      "outputs": []
    },
    {
      "cell_type": "code",
      "metadata": {
        "id": "avUflHejsutW",
        "colab_type": "code",
        "colab": {}
      },
      "source": [
        ""
      ],
      "execution_count": null,
      "outputs": []
    },
    {
      "cell_type": "code",
      "metadata": {
        "id": "XBdHSAUWsurY",
        "colab_type": "code",
        "colab": {}
      },
      "source": [
        ""
      ],
      "execution_count": null,
      "outputs": []
    },
    {
      "cell_type": "code",
      "metadata": {
        "id": "cByQ2DYLsupY",
        "colab_type": "code",
        "colab": {}
      },
      "source": [
        ""
      ],
      "execution_count": null,
      "outputs": []
    },
    {
      "cell_type": "code",
      "metadata": {
        "id": "TgDmTtXpsunB",
        "colab_type": "code",
        "colab": {}
      },
      "source": [
        ""
      ],
      "execution_count": null,
      "outputs": []
    },
    {
      "cell_type": "code",
      "metadata": {
        "id": "EwykfAecsukH",
        "colab_type": "code",
        "colab": {}
      },
      "source": [
        ""
      ],
      "execution_count": null,
      "outputs": []
    }
  ]
}